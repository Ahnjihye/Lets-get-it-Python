{
  "nbformat": 4,
  "nbformat_minor": 0,
  "metadata": {
    "colab": {
      "name": "9장-(실습용)-데이터분석 기초.ipynb",
      "provenance": [],
      "collapsed_sections": [],
      "authorship_tag": "ABX9TyN6QRwsebnKKS+sKbJQ9qRY",
      "include_colab_link": true
    },
    "kernelspec": {
      "name": "python3",
      "display_name": "Python 3"
    }
  },
  "cells": [
    {
      "cell_type": "markdown",
      "metadata": {
        "id": "view-in-github",
        "colab_type": "text"
      },
      "source": [
        "<a href=\"https://colab.research.google.com/github/Ahnjihye/Python/blob/main/9%EC%9E%A5_(%EC%8B%A4%EC%8A%B5%EC%9A%A9)_%EB%8D%B0%EC%9D%B4%ED%84%B0%EB%B6%84%EC%84%9D_%EA%B8%B0%EC%B4%88.ipynb\" target=\"_parent\"><img src=\"https://colab.research.google.com/assets/colab-badge.svg\" alt=\"Open In Colab\"/></a>"
      ]
    },
    {
      "cell_type": "markdown",
      "metadata": {
        "id": "uysixUXqPykY"
      },
      "source": [
        "# 0. 들어가기 전에, 한글 폰트 설정해주기\n",
        "\n",
        "#### 코랩에서 한글 폰트 설정\n",
        "1) 한글 폰트 코드 실행 \n",
        "\n",
        "```\n",
        "!sudo apt-get install -y fonts-nanum\n",
        "!sudo fc-cache -fv\n",
        "!rm ~/.cache/matplotlib -rf\n",
        "```\n",
        "\n",
        "2) 런타임 - 런타임 다시시작 \n",
        "\n",
        "3) 글꼴 지정 명령어 \n",
        "\n",
        "```\n",
        "plt.rc('font', family='NanumGothic')\n",
        "```\n",
        "\n"
      ]
    },
    {
      "cell_type": "code",
      "metadata": {
        "id": "gbH02KhmPw6_"
      },
      "source": [
        ""
      ],
      "execution_count": null,
      "outputs": []
    },
    {
      "cell_type": "markdown",
      "metadata": {
        "id": "R032dHnvuLca"
      },
      "source": [
        "# 1. 파일 업로드 \n",
        "\n",
        "#### csv 파일이란? \n",
        "comma seperated values의 약자로\n",
        "콤마(,)로 분리된 파일\n",
        "\n",
        "<img src='https://github.com/Ahnjihye/allinone_AI/blob/images/18_csv%ED%8C%8C%EC%9D%BC.png?raw=true' width=800>\n",
        "\n",
        "\n",
        "\n",
        "```\n",
        "# 코랩에 파일 업로드하는 방법\n",
        " \n",
        "from google.colab import files\n",
        "uploaded = files.upload()\n",
        "```\n",
        "\n"
      ]
    },
    {
      "cell_type": "code",
      "metadata": {
        "id": "xMe9NjEmuO2o"
      },
      "source": [
        ""
      ],
      "execution_count": null,
      "outputs": []
    },
    {
      "cell_type": "markdown",
      "metadata": {
        "id": "856yefHCuK2D"
      },
      "source": [
        "### csv 파일을 파이썬으로 읽어오기 \n",
        "\n",
        "\n",
        "\n",
        "1.   파일 open\n",
        "2.   파일 읽기 reader\n",
        "3.   파일 헤더 건너뛰기\n",
        "4.   파일을 리스트로 바꾸기\n",
        "\n",
        "\n",
        "\n",
        "```\n",
        "# csv 라이브러리 임포트\n",
        "import csv \n",
        "\n",
        "f = open('파일명.csv')         # 파일 오픈\n",
        "data = csv.reader(f)         # 파일 읽기 reader\n",
        "next(data)                   # 파일 헤더 건너뛰기 \n",
        "data = list(data)            # 파일 리스트로 바꾸기\n",
        "```\n",
        "\n"
      ]
    },
    {
      "cell_type": "code",
      "metadata": {
        "id": "--E-FxMCuRlC"
      },
      "source": [
        ""
      ],
      "execution_count": null,
      "outputs": []
    },
    {
      "cell_type": "code",
      "metadata": {
        "id": "q3t86Z5LuRm7"
      },
      "source": [
        ""
      ],
      "execution_count": null,
      "outputs": []
    },
    {
      "cell_type": "markdown",
      "metadata": {
        "id": "QjjysIWDqm34"
      },
      "source": [
        "<img src='https://github.com/Ahnjihye/allinone_AI/blob/images/64_%EC%B9%B4%EB%93%9C%EB%8D%B0%EC%9D%B4%ED%84%B0.png?raw=true'>"
      ]
    },
    {
      "cell_type": "code",
      "metadata": {
        "id": "4bnAQFR9uRo7"
      },
      "source": [
        ""
      ],
      "execution_count": null,
      "outputs": []
    },
    {
      "cell_type": "code",
      "metadata": {
        "id": "AaAfV1s_qzOR"
      },
      "source": [
        "# 총 데이터의 개수는?\n"
      ],
      "execution_count": null,
      "outputs": []
    },
    {
      "cell_type": "markdown",
      "metadata": {
        "id": "mCKJAnCsuO7z"
      },
      "source": [
        "# 2. 데이터 다뤄보기"
      ]
    },
    {
      "cell_type": "markdown",
      "metadata": {
        "id": "89v0MUZ4y0uJ"
      },
      "source": [
        "<img src ='https://github.com/Ahnjihye/allinone_AI/blob/images/19_%EB%8D%B0%EC%9D%B4%ED%84%B0%20%EA%B5%AC%EC%A1%B0.png?raw=true' width=600>"
      ]
    },
    {
      "cell_type": "code",
      "metadata": {
        "id": "0SSz-ZSvuRrV"
      },
      "source": [
        "# 카드이용일자 모두 출력하기\n"
      ],
      "execution_count": null,
      "outputs": []
    },
    {
      "cell_type": "code",
      "metadata": {
        "id": "RIz2XBOey6wh"
      },
      "source": [
        "# 카드 사용금액 모두 출력하기\n"
      ],
      "execution_count": null,
      "outputs": []
    },
    {
      "cell_type": "markdown",
      "metadata": {
        "id": "RzWt9ggxy7Ap"
      },
      "source": [
        "<img src ='https://github.com/Ahnjihye/allinone_AI/blob/images/20_%EB%8D%B0%EC%9D%B4%ED%84%B0%EB%B6%84%EC%84%9D%20%EB%B0%98%EB%B3%B5%EB%AC%B8.png?raw=true' width=800>"
      ]
    },
    {
      "cell_type": "code",
      "metadata": {
        "id": "JdHc9hvCy6y7"
      },
      "source": [
        "# 카드 사용처와 금액 모두 출력하기\n"
      ],
      "execution_count": null,
      "outputs": []
    },
    {
      "cell_type": "code",
      "metadata": {
        "id": "NgwKIIVszjfN"
      },
      "source": [
        "# 카드 사용처와 금액 모두 출력하기\n"
      ],
      "execution_count": null,
      "outputs": []
    },
    {
      "cell_type": "markdown",
      "metadata": {
        "id": "1IpuG5Jvy7Vk"
      },
      "source": [
        "<img src = 'https://github.com/Ahnjihye/allinone_AI/blob/images/21_%EB%8D%B0%EC%9D%B4%ED%84%B0%EB%B6%84%EC%84%9D_%EB%B0%98%EB%B3%B5%EB%AC%B82.png?raw=true' width=800>"
      ]
    },
    {
      "cell_type": "code",
      "metadata": {
        "id": "XDbYFvliy61T"
      },
      "source": [
        "# 3개월간 사용한 총 금액은? ^_ㅠ??\n"
      ],
      "execution_count": null,
      "outputs": []
    },
    {
      "cell_type": "markdown",
      "metadata": {
        "id": "sk_9v2hLyrNk"
      },
      "source": [
        "> 파일로 읽어들인 데이터는 모두 문자이다.  </br>\n",
        "> 따라서 연산하려면 숫자로 변경해주어야 함!!"
      ]
    },
    {
      "cell_type": "code",
      "metadata": {
        "id": "Oaq__8xwyu7P"
      },
      "source": [
        "# 3개월간 사용한 총 금액은? ^_ㅠ??\n"
      ],
      "execution_count": null,
      "outputs": []
    },
    {
      "cell_type": "markdown",
      "metadata": {
        "id": "R2gvf4J8rS9s"
      },
      "source": [
        "매입상태를 잘 살펴보자 \n",
        "\n",
        "<img src='https://github.com/Ahnjihye/allinone_AI/blob/images/64_%EC%B9%B4%EB%93%9C%EB%8D%B0%EC%9D%B4%ED%84%B0.png?raw=true' width=800>"
      ]
    },
    {
      "cell_type": "code",
      "metadata": {
        "id": "-A7grbYry7JZ"
      },
      "source": [
        "# 3개월간 사용한 \"진짜\" 총 금액은? ^_ㅠ??\n"
      ],
      "execution_count": null,
      "outputs": []
    },
    {
      "cell_type": "markdown",
      "metadata": {
        "id": "KKcsbWawz7_8"
      },
      "source": [
        "# 3. 진짜! 데이터 분석!\n",
        "### 분석 1 : 10월, 11월, 12월 지출액을 막대그래프로 그리기\n",
        "\n",
        "> 잠깐! 그래프로 그리려면?      </br>\n",
        "> plt.bar()안에 뭐가 필요할까?\n",
        "\n"
      ]
    },
    {
      "cell_type": "markdown",
      "metadata": {
        "id": "b0rJSIsNxZq4"
      },
      "source": [
        "<img src = 'https://github.com/Ahnjihye/allinone_AI/blob/images/24_%EC%B9%B4%EB%93%9C%20%EB%A6%AC%EC%8A%A4%ED%8A%B8.png?raw=true' width = 400>\n",
        "\n",
        "</br>\n",
        "</br>\n",
        "\n",
        "*   10월 -> [0]\n",
        "*   11월 -> [1]\n",
        "*   12월 -> [2]\n",
        "\n",
        "</br>\n",
        "\n",
        "> 규칙은 뭘까?\n"
      ]
    },
    {
      "cell_type": "code",
      "metadata": {
        "id": "DRJXI5T-2EPT"
      },
      "source": [
        ""
      ],
      "execution_count": null,
      "outputs": []
    },
    {
      "cell_type": "code",
      "metadata": {
        "id": "nzbtTm8H2Io6"
      },
      "source": [
        ""
      ],
      "execution_count": null,
      "outputs": []
    },
    {
      "cell_type": "code",
      "metadata": {
        "id": "t2ja02zPy7L7"
      },
      "source": [
        "# 10-12월 지출액 저장하는 리스트 \n",
        "# [0]에 10월, [1]에 11월, [2]에 12월 저장\n",
        "\n"
      ],
      "execution_count": null,
      "outputs": []
    },
    {
      "cell_type": "code",
      "metadata": {
        "id": "i2-cuPNs2y9d"
      },
      "source": [
        "# 초간단ver\n",
        "\n"
      ],
      "execution_count": null,
      "outputs": []
    },
    {
      "cell_type": "code",
      "metadata": {
        "id": "VxmnUsvcy7Qq"
      },
      "source": [
        ""
      ],
      "execution_count": null,
      "outputs": []
    },
    {
      "cell_type": "markdown",
      "metadata": {
        "id": "dfK9j1ZQSrBX"
      },
      "source": [
        "지수표기법 e를 검색해보세요!"
      ]
    },
    {
      "cell_type": "markdown",
      "metadata": {
        "id": "CJIzyZgU3nAD"
      },
      "source": [
        "### 분석 2 : 월별 택시 이용 금액 구하기"
      ]
    },
    {
      "cell_type": "code",
      "metadata": {
        "id": "NAKsjo--zCXX"
      },
      "source": [
        "\n"
      ],
      "execution_count": null,
      "outputs": []
    },
    {
      "cell_type": "code",
      "metadata": {
        "id": "k9rWiM2y31QN"
      },
      "source": [
        "# 초간단 ver\n",
        "\n"
      ],
      "execution_count": null,
      "outputs": []
    },
    {
      "cell_type": "code",
      "metadata": {
        "id": "eC-54uUm31So"
      },
      "source": [
        ""
      ],
      "execution_count": null,
      "outputs": []
    },
    {
      "cell_type": "markdown",
      "metadata": {
        "id": "9yQp40sX31ar"
      },
      "source": [
        "### 분석 3 : 월별 배달 이용 금액 구하기"
      ]
    },
    {
      "cell_type": "code",
      "metadata": {
        "id": "IU4xutnd31VM"
      },
      "source": [
        "\n"
      ],
      "execution_count": null,
      "outputs": []
    },
    {
      "cell_type": "code",
      "metadata": {
        "id": "nIoEOuNJ31fz"
      },
      "source": [
        "\n"
      ],
      "execution_count": null,
      "outputs": []
    },
    {
      "cell_type": "markdown",
      "metadata": {
        "id": "A2F6ROi_4Rix"
      },
      "source": [
        "### 분석 4 : 택시 지출액과 배달음식 지출액 비교하기"
      ]
    },
    {
      "cell_type": "markdown",
      "metadata": {
        "id": "DU3V80mxS9Mh"
      },
      "source": [
        "여러 그래프 한 번에 표시하기\n",
        "\n",
        "\n",
        "```\n",
        "# 그래프 그리는 명령어를 여러개 작성하고, plt.show()를 마지막에 한번만 작성\n",
        "plt.plot(리스트A)\n",
        "plt.plot(리스트B)\n",
        "plt.show()\n",
        "```\n",
        "\n"
      ]
    },
    {
      "cell_type": "code",
      "metadata": {
        "id": "EdQ0Poe431ik"
      },
      "source": [
        "\n"
      ],
      "execution_count": null,
      "outputs": []
    }
  ]
}