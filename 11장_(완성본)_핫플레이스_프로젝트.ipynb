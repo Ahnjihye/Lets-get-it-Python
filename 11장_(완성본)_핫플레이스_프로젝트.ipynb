{
  "nbformat": 4,
  "nbformat_minor": 0,
  "metadata": {
    "colab": {
      "name": "11장_(완성본)_핫플레이스 프로젝트.ipynb",
      "provenance": [],
      "collapsed_sections": [],
      "authorship_tag": "ABX9TyORVjLqD7tfL3TLCCuIn8sv"
    },
    "kernelspec": {
      "name": "python3",
      "display_name": "Python 3"
    }
  },
  "cells": [
    {
      "cell_type": "markdown",
      "metadata": {
        "id": "oQlXJLnwF7pK"
      },
      "source": [
        "들어가기 전에)\r\n",
        "<br/>\r\n",
        "11장은 코랩이 아닌 **주피터 노트북** 에서 진행해주세요"
      ]
    },
    {
      "cell_type": "markdown",
      "metadata": {
        "id": "AJJmdk2i7Fb-"
      },
      "source": [
        "<img src='https://github.com/Ahnjihye/allinone_AI/blob/images/87_%EB%A1%9C%EB%93%9C%EB%A7%B5.png?raw=true' width=700>"
      ]
    },
    {
      "cell_type": "markdown",
      "metadata": {
        "id": "FzBW2NLn7J5t"
      },
      "source": [
        "# 1. 프로젝트 목표 수립\r\n"
      ]
    },
    {
      "cell_type": "markdown",
      "metadata": {
        "id": "qNIT40Qr80c1"
      },
      "source": [
        "**핫플레이스, 언제 가야 가장 덜 붐빌까?**\r\n",
        "\r\n",
        "그런데, 데이터가 있나?"
      ]
    },
    {
      "cell_type": "markdown",
      "metadata": {
        "id": "uKteuac_-whw"
      },
      "source": [
        "### 1) 데이터 선정\r\n",
        "\r\n",
        "데이터 : 구글에서 데이터를 찾아보자!\r\n",
        "\r\n",
        "구글에 '서울 시간대별 인구 데이터' 검색\r\n",
        "\r\n",
        "> 인구 데이터 : 서울 생활인구(내국인) 201912\r\n",
        "<br/>\r\n",
        ">  행정동코드 데이터 : 행정구역 코드 정보"
      ]
    },
    {
      "cell_type": "markdown",
      "metadata": {
        "id": "9Tuar_6tUQK5"
      },
      "source": [
        "<img src='https://github.com/Ahnjihye/allinone_AI/blob/images/99_%EB%8D%B0%EC%9D%B4%ED%84%B0%ED%97%A4%EB%8D%94.png?raw=true' width=800>"
      ]
    },
    {
      "cell_type": "markdown",
      "metadata": {
        "id": "cIbzo9JiFLdb"
      },
      "source": [
        "### 2) 목표 수립하기"
      ]
    },
    {
      "cell_type": "markdown",
      "metadata": {
        "id": "UDpGnB7q84Pa"
      },
      "source": [
        "하위 목표 1 : 핫플레이스가 있는 행정동의 시간대별 평균인구 그래프 그려 분석하기\r\n",
        "\r\n",
        "<img src='https://github.com/Ahnjihye/allinone_AI/blob/images/93_%ED%95%AB%ED%94%8C_%ED%95%98%EC%9C%84%EB%AA%A9%ED%91%9C1.png?raw=true' width=300>"
      ]
    },
    {
      "cell_type": "markdown",
      "metadata": {
        "id": "oGaVvTH59CNE"
      },
      "source": [
        "하위 목표 2 : 핫플레이스가 있는 행정동의 주중/주말 시간대별 평균인구 그래프 그리고 분석하기\r\n",
        "\r\n",
        "<img src='https://github.com/Ahnjihye/allinone_AI/blob/images/94_%ED%95%AB%ED%94%8C_%ED%95%98%EC%9C%84%EB%AA%A9%ED%91%9C2.png?raw=true' width=300>"
      ]
    },
    {
      "cell_type": "markdown",
      "metadata": {
        "id": "HJq4l9v99CPY"
      },
      "source": [
        "하위 목표 3 : 핫플레이스가 있는 행정동의 남/녀 시간대별 평균인구 그래프를 그려 분석하기\r\n",
        "\r\n",
        "<img src='https://github.com/Ahnjihye/allinone_AI/blob/images/95_%ED%95%AB%ED%94%8C_%ED%95%98%EC%9C%84%EB%AA%A9%ED%91%9C3.png?raw=true' width=300>"
      ]
    },
    {
      "cell_type": "markdown",
      "metadata": {
        "id": "wPQbcCw0LdQg"
      },
      "source": [
        "하위 목표 4 : 핫플레이스가 있는 행정동과 익숙한 행정동의 시간대별 평균인구 그래프 그려서 비교 분석하기\r\n",
        "\r\n",
        "<img src='https://github.com/Ahnjihye/allinone_AI/blob/images/96_%ED%95%AB%ED%94%8C_%ED%95%98%EC%9C%84%EB%AA%A9%ED%91%9C4.png?raw=true' width=300>"
      ]
    },
    {
      "cell_type": "markdown",
      "metadata": {
        "id": "8tv7s4JY-5ff"
      },
      "source": [
        "# 2. 프로그램 구현 \r\n"
      ]
    },
    {
      "cell_type": "markdown",
      "metadata": {
        "id": "ub-qn9GtNTh5"
      },
      "source": [
        "**프로젝트에 필요한 데이터 파일 읽기**\r\n",
        "\r\n",
        "```\r\n",
        "import csv\r\n",
        "\r\n",
        "f = open('파일이름.csv', encoding='utf8') # 또는  'eur-kr', 'cp949'\r\n",
        "data = csv.reader(f)\r\n",
        "next(data)\r\n",
        "data = list(data)\r\n",
        "```\r\n",
        "주의사항! 파이썬 파일과 데이터 파일을 같은 폴더에 위치시킨 후 코드 작성하기\r\n"
      ]
    },
    {
      "cell_type": "code",
      "metadata": {
        "id": "qM8Tpf_pNlMk"
      },
      "source": [
        "# 인구데이터 파일 읽기\r\n",
        "import csv \r\n",
        "\r\n",
        "f = open('LOCAL_PEOPLE_DONG_201912.csv', encoding='utf8') # 또는 'eur-kr', 'cp949'\r\n",
        "data = csv.reader(f)\r\n",
        "next(data)\r\n",
        "data = list(data)\r\n",
        "\r\n",
        "print(len(data))"
      ],
      "execution_count": null,
      "outputs": []
    },
    {
      "cell_type": "code",
      "metadata": {
        "id": "nruSYN0jNlR4"
      },
      "source": [
        "# 행정동코드 데이터 파일 읽기\r\n",
        "f2 = open('dong_code.csv', encoding = 'utf8') \r\n",
        "code_data = csv.reader(f2)\r\n",
        "next(code_data)\r\n",
        "next(code_data)\r\n",
        "code_data = list(code_data)\r\n",
        "\r\n",
        "print(len(code_data))"
      ],
      "execution_count": null,
      "outputs": []
    },
    {
      "cell_type": "code",
      "metadata": {
        "id": "jcUObnTtNovl"
      },
      "source": [
        "# 인구데이터 확인해보기\r\n",
        "print(data[0]) "
      ],
      "execution_count": null,
      "outputs": []
    },
    {
      "cell_type": "markdown",
      "metadata": {
        "id": "VPahQssoO-Iz"
      },
      "source": [
        "**데이터타입 미리 변환하기**\r\n",
        "\r\n",
        "인구수를 계량화하려면 연산이 필수!\r\n",
        "\r\n"
      ]
    },
    {
      "cell_type": "markdown",
      "metadata": {
        "id": "lT_YzPgrPu9C"
      },
      "source": [
        "인구데이터의 타입 변환하기\r\n",
        "\r\n",
        "\r\n",
        "```\r\n",
        "for row in data: \r\n",
        "    row[1] = int(row[1])       # 시간대구분\r\n",
        "    row[2] = int(row[1])       # 행정동코드\r\n",
        "    row[3] = float(row[1])     # 총생활인구수\r\n",
        "    row[4] = float(row[1])     # 남자0세부터9세생활인구수\r\n",
        "    ... \r\n",
        "    row[31] = float(row[31])   # 여자70세이상생활인구수\r\n",
        "\r\n",
        "```\r\n",
        "\r\n"
      ]
    },
    {
      "cell_type": "code",
      "metadata": {
        "id": "kLHSbQKuO6Yq"
      },
      "source": [
        "for row in data: \r\n",
        "    for i in range(1, 32): \r\n",
        "        if i <= 2:      # 인덱스가 2이하인 경우 정수형으로 변환\r\n",
        "            row[i] = int(row[i])\r\n",
        "        else:           # 인덱스가 2초과인 경우 실수형으로 변환\r\n",
        "            row[i] = float(row[i])\r\n",
        "            \r\n",
        "print(data[0])"
      ],
      "execution_count": null,
      "outputs": []
    },
    {
      "cell_type": "markdown",
      "metadata": {
        "id": "uUusiTHiP_2u"
      },
      "source": [
        "코드 데이터의 타입 변환하기"
      ]
    },
    {
      "cell_type": "code",
      "metadata": {
        "id": "eMgC5q8GQTPK"
      },
      "source": [
        "# 프로젝트에서 사용할 예정인 행자부 행정동코드만 숫자로 변경\r\n",
        "for row in code_data: \r\n",
        "    row[1] = int(row[1])\r\n",
        "\r\n",
        "print(code_data[0])"
      ],
      "execution_count": null,
      "outputs": []
    },
    {
      "cell_type": "markdown",
      "metadata": {
        "id": "ryc8Gpy2Qbiu"
      },
      "source": [
        "**사용자에게 행정동명을 입력받고, 대응되는 행정동코드를 찾기**"
      ]
    },
    {
      "cell_type": "markdown",
      "metadata": {
        "id": "BSLbTec-Qomi"
      },
      "source": [
        "```\r\n",
        "1. 사용자에게서 행정동명을 입력받아 변수(dong_name)에 저장하기\r\n",
        "2. 행정동코드 데이터(code_data)를 돌며 반복하기\r\n",
        "  2-1. 행정동코드 데이터의 마지막 열인 행정동명(열 인덱스[-1])이 입력된 행정동명(dong_name)과 같다면\r\n",
        "    2-1-1. 해당하는 행정동코드를 변수(dong_code)에 저장하기\r\n",
        "```\r\n",
        "\r\n"
      ]
    },
    {
      "cell_type": "code",
      "metadata": {
        "id": "DlwLBCqlQ0gk"
      },
      "source": [
        "dong_name = input('핫플레이스가 위치한 행정동을 입력하세요 --> ')\r\n",
        "for row in code_data: \r\n",
        "    if row[-1] == dong_name: \r\n",
        "        dong_code = row[1]\r\n",
        "        \r\n",
        "print(dong_name, '-',dong_code, '을(를) 분석합니다!')"
      ],
      "execution_count": null,
      "outputs": []
    },
    {
      "cell_type": "markdown",
      "metadata": {
        "id": "PhuepFwZ_CM4"
      },
      "source": [
        "## 하위목표 1  :  핫플레이스가 있는 행정동의 시간대별 평균인구 그래프 그려 분석하기\r\n",
        "\r\n",
        "\r\n",
        "<img src='https://github.com/Ahnjihye/allinone_AI/blob/images/93_%ED%95%AB%ED%94%8C_%ED%95%98%EC%9C%84%EB%AA%A9%ED%91%9C1.png?raw=true' width=200>\r\n",
        "<img src='https://github.com/Ahnjihye/allinone_AI/blob/images/97_%EC%9D%B8%EA%B5%AC%EB%A6%AC%EC%8A%A4%ED%8A%B8.png?raw=true' width=600>\r\n",
        "\r\n",
        "<br/>\r\n",
        "<br/>\r\n",
        "\r\n",
        "<img src='https://github.com/Ahnjihye/allinone_AI/blob/images/98_%ED%95%98%EC%9C%84%EB%AA%A9%ED%91%9C1%EC%95%8C%EA%B3%A0%EB%A6%AC%EC%A6%98.png?raw=true' width=800>"
      ]
    },
    {
      "cell_type": "markdown",
      "metadata": {
        "id": "6qOyGvrzRMxV"
      },
      "source": [
        "### 1) 알고리즘 작성 \r\n",
        "\r\n",
        "```\r\n",
        "1. 시간대별 평균인구를 저장할 리스트(population)를 길이 24로 만들고 초깃값 0 저장하기\r\n",
        "2. 인구 데이터(data)의 첫 행부터 마지막 행까지 돌며 반복하기\r\n",
        "  2.1 사용자가 입력한 행정동의 행정동코드(dong_code)와 인구 데이터(data)의 행정동코드(row[2])가 같다면\r\n",
        "    2.1.1 해당 행의 시간대(row[1])와 총생활인구수(row[3])를 각각 변수(time, p)에 저장하기\r\n",
        "    2.1.2 과정 2.1.1에서 저장한 시간대(time)가 population의 인덱스이므로 population[time]에 총생활인구수(p) 더하기\r\n",
        "3. 반복이 끝나면 population 리스트의 모든 값을 31로 나눈 후 population에 다시 저장하기\r\n",
        "4. 완성된 population 리스트로 시간대별 평균인구 그래프 그리기\r\n",
        "```\r\n",
        "\r\n"
      ]
    },
    {
      "cell_type": "markdown",
      "metadata": {
        "id": "I6kwQD9a_1kx"
      },
      "source": [
        "### 2) 코드 작성하기\r\n"
      ]
    },
    {
      "cell_type": "code",
      "metadata": {
        "id": "VJrvFr8KMDss"
      },
      "source": [
        "population = []\r\n",
        "for i in range(24): \r\n",
        "    population.append(0)\r\n",
        "\r\n",
        "for row in data: \r\n",
        "    if row[2] == dong_code: \r\n",
        "        time = row[1]\r\n",
        "        p = row[3]\r\n",
        "        population[time] += p\r\n",
        " \r\n",
        "print(population)    # 현재 population은 총인구, 31로 나누어야 평균인구가 됨"
      ],
      "execution_count": null,
      "outputs": []
    },
    {
      "cell_type": "markdown",
      "metadata": {
        "id": "gQelqHL1XA2l"
      },
      "source": [
        "**추가로 배워봅시다!**\r\n",
        "\r\n",
        "1) 리스트 내포\r\n",
        "\r\n",
        "```\r\n",
        "population = []\r\n",
        "for i in range(24): \r\n",
        "    population.append(0)\r\n",
        "```\r\n",
        "코드라인 세줄 -> 한 줄\r\n",
        "\r\n",
        "\r\n",
        "```\r\n",
        "population = [0 for i in range(24)]\r\n",
        "```\r\n",
        "\r\n",
        "\r\n"
      ]
    },
    {
      "cell_type": "code",
      "metadata": {
        "id": "Y2khGtRgWm5A"
      },
      "source": [
        "# 리스트에 숫자 0을 24개 동시에 저장하기\r\n",
        "population = [0 for i in range(24)]\r\n",
        "print(population)"
      ],
      "execution_count": null,
      "outputs": []
    },
    {
      "cell_type": "code",
      "metadata": {
        "id": "AJT05e7Ho6Nd"
      },
      "source": [
        "# 리스트의 모든 원소를 31로 나누기\r\n",
        "population = [p/31 for p in population]\r\n",
        "print(population)"
      ],
      "execution_count": null,
      "outputs": []
    },
    {
      "cell_type": "markdown",
      "metadata": {
        "id": "JbA-0UkcXHw_"
      },
      "source": [
        "2) 변수 여러 개 코드라인 한 줄로 만들기"
      ]
    },
    {
      "cell_type": "code",
      "metadata": {
        "id": "sPzyk2W1WohU"
      },
      "source": [
        "apple, banana = 1200, 800\r\n",
        "print(apple)\r\n",
        "print(banana)"
      ],
      "execution_count": null,
      "outputs": []
    },
    {
      "cell_type": "markdown",
      "metadata": {
        "id": "8YXBk8HAXo3I"
      },
      "source": [
        "**추가로 배운 내용 적용하여 코드 간단하게 만들기**"
      ]
    },
    {
      "cell_type": "code",
      "metadata": {
        "id": "ujUmQ42WR9jO"
      },
      "source": [
        "import matplotlib.pyplot as plt\r\n",
        "\r\n",
        "population = [0 for i in range(24)]\r\n",
        "for row in data: \r\n",
        "    if row[2] == dong_code: \r\n",
        "        time, p = row[1], row[3]\r\n",
        "        population[time] += p\r\n",
        "population = [p/31 for p in population]\r\n",
        "\r\n",
        "plt.rc('font', family='Malgun Gothic')\r\n",
        "plt.title(dong_name + ' 시간대별 평균인구') # 그래프 제목\r\n",
        "plt.plot(range(24), population, color='indigo') # 그래프 그리기\r\n",
        "plt.xticks(range(24), range(24)) # x축 눈금\r\n",
        "plt.xlabel('시간대') # x축 이름\r\n",
        "plt.ylabel('평균인구수') # y축 이름\r\n",
        "plt.show()"
      ],
      "execution_count": null,
      "outputs": []
    },
    {
      "cell_type": "markdown",
      "metadata": {
        "id": "JUAtr0b5LkKX"
      },
      "source": [
        "## 하위목표1의 결과분석\r\n",
        "\r\n",
        "```\r\n",
        "- 압구정동은 새벽 1~6시에 인구가 가장 적음 \r\n",
        "  (새벽에는 인구이동이 매우 적으므로 이 시간에 인구는 대부분 압구정에 거주하는 사람으로 추측할 수 있다.)\r\n",
        "- 12~18시가 인구가 가장 많음\r\n",
        "- 압구정동에 있는 핫플레이스를 가려면 10~11시쯤 브런치 약속이나 19시 이후 저녁약속을 잡으면 될 것 같다.\r\n",
        "```\r\n",
        "\r\n",
        "\r\n"
      ]
    },
    {
      "cell_type": "markdown",
      "metadata": {
        "id": "bA3D1y4XJa6h"
      },
      "source": [
        "## 하위목표 2  :  핫플레이스가 있는 행정동의 주중/주말 시간대별 평균인구 그래프 그리고 분석하기\r\n",
        "\r\n",
        "\r\n",
        "<img src='https://github.com/Ahnjihye/allinone_AI/blob/images/94_%ED%95%AB%ED%94%8C_%ED%95%98%EC%9C%84%EB%AA%A9%ED%91%9C2.png?raw=true' width=300>\r\n",
        "\r\n",
        "\r\n",
        "\r\n"
      ]
    },
    {
      "cell_type": "markdown",
      "metadata": {
        "id": "iJpI1Y3cWBRH"
      },
      "source": [
        "**요일을 알려주는 datetime 라이브러리**\r\n",
        "<br/>\r\n",
        "0 - 월, 1 - 화, 2 - 수, 3 - 목, 4 - 금, 5 - 토, 6 - 일"
      ]
    },
    {
      "cell_type": "code",
      "metadata": {
        "id": "Nn4QcOzHWHhM"
      },
      "source": [
        "import datetime\r\n",
        "\r\n",
        "datetime.date(2019, 12, 15).weekday()"
      ],
      "execution_count": null,
      "outputs": []
    },
    {
      "cell_type": "markdown",
      "metadata": {
        "id": "rSWgtftdVU6j"
      },
      "source": [
        "\r\n",
        "### 1) 알고리즘 작성 \r\n",
        "\r\n",
        "```\r\n",
        "1. 주중 시간대별 생활인구를 저장할 리스트(weekday)와 주말 시간대별 생활인구를 저장할 리스트(weekend)를 길이 24로 만들고 초깃값 0 저장하기\r\n",
        "2. 인구 데이터(data)의 첫 행부터 마지막 행까지 돌며 반복하기\r\n",
        "  2.1 사용자가 입력한 행정동의 행정동코드(dong_code)와 인구 데이터(data)의 행정동코드(row[2])가 같다면\r\n",
        "    2.1.1 해당 행의 시간대(time)와 총생활인구수(p), 기준일ID의 연도(year), 월(mon), 일(day)을 각각 변수에 저장하기\r\n",
        "    2.1.2 과정 2.1.1에서 저장한 연도(year), 월(mon), 일(day)을 datetime.date().weekday()에 넣어 주중/주말 구분하기\r\n",
        "    2.1.3 주중이면 주중 리스트(weekday[time])에 총생활인구수(p), 주말이면 주말 리스트(weekend[time])에 총생활인구수(p) 더하기\r\n",
        "# 주중인구와 주말인구의 평균을 구하기 위해 2019년 12월의 주중일수와 주말일수를 알아야 함 (3~4)\r\n",
        "3. 2019년 12월의 주중 일수(weekday_cnt)와 주말 일수(weekend_cnt)를 저장할 변수를 만들고 초깃값 0 저장하기\r\n",
        "4. 2019년 12월의 일수만큼 반복하기\r\n",
        "  4.1 datetime.date(2019, 12, i)가 주중이면 주중 일수(weekday_cnt)에 1, 주말이면 주말 일수(weekend_cnt)에 1 더하기\r\n",
        "5. 주중 리스트(weekday)의 각 요소를 주중 일수(weekday_cnt)로, 주말 리스트(weekend)의 각 요소를 주말 일수(weekend_cnt)로 나누어 주중/주말 평균인구 구하기\r\n",
        "6. 완성된 weekday와 weekend 리스트로 주중/주말 시간대별 평균인구 그래프 그리기\r\n",
        "```"
      ]
    },
    {
      "cell_type": "markdown",
      "metadata": {
        "id": "mBC4IT0MJa6p"
      },
      "source": [
        "### 2) 코드 작성하기"
      ]
    },
    {
      "cell_type": "code",
      "metadata": {
        "id": "r9OTLu7pMChK"
      },
      "source": [
        "weekday = [0 for i in range(24)]\r\n",
        "weekend = [0 for i in range(24)]\r\n",
        "\r\n",
        "for row in data: \r\n",
        "    if row[2] == dong_code: \r\n",
        "        time, p = row[1], row[3]\r\n",
        "        year, mon, day = int(row[0][:4]), int(row[0][4:6]), int(row[0][6:])\r\n",
        "        num = datetime.date(year, mon, day).weekday()\r\n",
        "        if num < 5: \r\n",
        "            weekday[time] += p\r\n",
        "        else: \r\n",
        "            weekend[time] += p"
      ],
      "execution_count": null,
      "outputs": []
    },
    {
      "cell_type": "code",
      "metadata": {
        "id": "R0J6hV14VWEo"
      },
      "source": [
        "# 2019년 12월의 주중/주말 일수 구하기\r\n",
        "weekday_cnt, weekend_cnt = 0, 0\r\n",
        "for i in range(1, 32): \r\n",
        "    if datetime.date(2019,12,i).weekday() < 5:\r\n",
        "        weekday_cnt += 1\r\n",
        "    else: \r\n",
        "        weekend_cnt += 1\r\n",
        "\r\n",
        "print('2019년 12월의 주중 일수 =', weekday_cnt, '주말 일수 =',weekend_cnt)\r\n",
        "\r\n",
        "weekday = [w/weekday_cnt for w in weekday]\r\n",
        "weekend = [w/weekend_cnt for w in weekend]\r\n",
        "\r\n",
        "print('주중 인구:', weekday)\r\n",
        "print('주말 인구:', weekend)"
      ],
      "execution_count": null,
      "outputs": []
    },
    {
      "cell_type": "code",
      "metadata": {
        "id": "zt9AjDVMqh8G"
      },
      "source": [
        "plt.title(dong_name+ ' 주중/주말 시간대별 평균인구')\r\n",
        "plt.rc('font', family='Malgun Gothic')\r\n",
        "plt.plot(weekday, color='indigo', label='주중')\r\n",
        "plt.plot(weekend, color='orangered', label='주말')\r\n",
        "plt.legend()\r\n",
        "plt.xlabel('시간대')\r\n",
        "plt.ylabel('평균인구수')\r\n",
        "plt.xticks(range(24), range(24))\r\n",
        "plt.show()\r\n"
      ],
      "execution_count": null,
      "outputs": []
    },
    {
      "cell_type": "markdown",
      "metadata": {
        "id": "V0FDXtXxF0_u"
      },
      "source": [
        "## 하위목표2의 결과분석\r\n",
        "\r\n",
        "```\r\n",
        "- 압구정동은 주말보다 주중 인구가 더 많다.\r\n",
        "- 주말에 압구정에 간다면 그리 걱정하지 않아도 된다.\r\n",
        "```\r\n",
        "\r\n",
        "\r\n"
      ]
    },
    {
      "cell_type": "markdown",
      "metadata": {
        "id": "ZLt60QqXVHP7"
      },
      "source": [
        "## 하위목표 3  :  핫플레이스가 있는 행정동의 남/녀 시간대별 평균인구 그래프 그리고 분석하기\r\n",
        "\r\n",
        "\r\n",
        "<img src='https://github.com/Ahnjihye/allinone_AI/blob/images/95_%ED%95%AB%ED%94%8C_%ED%95%98%EC%9C%84%EB%AA%A9%ED%91%9C3.png?raw=true' width=300>\r\n",
        "\r\n",
        "<br/>\r\n",
        "<br/>\r\n",
        "\r\n",
        "<img src='https://github.com/Ahnjihye/allinone_AI/blob/images/100_%ED%95%98%EC%9C%84%EB%AA%A9%ED%91%9C3_%EC%95%8C%EA%B3%A0%EB%A6%AC%EC%A6%98.png?raw=true' width=750>\r\n",
        "\r\n",
        "<br/>\r\n",
        "<br/>\r\n",
        "\r\n",
        "<img src='https://github.com/Ahnjihye/allinone_AI/blob/images/101_%ED%95%98%EC%9C%84%EB%AA%A9%ED%91%9C3_%EC%95%8C%EA%B3%A0%EB%A6%AC%EC%A6%98%E3%85%812.png?raw=true' width=750>\r\n"
      ]
    },
    {
      "cell_type": "markdown",
      "metadata": {
        "id": "nvGIKM4iq1OY"
      },
      "source": [
        "### 1) 알고리즘 작성 \r\n",
        "\r\n",
        "\r\n",
        "```\r\n",
        "1. 남성 시간대별 생활인구를 저장할 리스트(male)와 여성 시간대별 생활인구를 저장할 리스트(female)를 길이 24로 만들고 초깃값 0 저장하기\r\n",
        "2. 인구 데이터(data)의 첫 행부터 마지막 행까지 돌며 반복하기\r\n",
        "  2.1 사용자가 입력한 행정동의 행정동코드(dong_code)와 인구 데이터(data)의 행정동코드(row[2])가 같다면\r\n",
        "    2.1.1 해당 행의 시간대(열 인덱스 [1])를 변수(time)에 저장하기\r\n",
        "    2.1.2 열 인덱스 [4]부터 [17]까지의 합을  male[time]에 더하기\r\n",
        "    2.1.3 열 인덱스 [18]부터 [31]까지의 합을 female[time]에 더하기\r\n",
        "3. 반복이 끝나면 남성 생활인구 리스트(male)와 여성 생활인구 리스트(female)를 각각 31로 나누어 시간대별 평균인구 구하기\r\n",
        "4. 완성된 male과 female 리스트로 시간대별 평균인구 그래프 그리기\r\n",
        "```\r\n",
        "\r\n"
      ]
    },
    {
      "cell_type": "markdown",
      "metadata": {
        "id": "J5Zcpi8QVHP7"
      },
      "source": [
        "### 2) 코드 작성하기"
      ]
    },
    {
      "cell_type": "code",
      "metadata": {
        "id": "UrGeGDBWVHP8"
      },
      "source": [
        "male = [0 for i in range(24)]\r\n",
        "female = [0 for i in range(24)]\r\n",
        "\r\n",
        "for row in data: \r\n",
        "    if row[2] == dong_code: \r\n",
        "        time = row[1]\r\n",
        "        male[time] += sum(row[4:18])      # 남성 인구 총합 구하기  \r\n",
        "        female[time] += sum(row[18:32])   # 여성 인구 총합 구하기\r\n",
        "male = [m/31 for m in male]\r\n",
        "female = [f/31 for f in female]\r\n"
      ],
      "execution_count": null,
      "outputs": []
    },
    {
      "cell_type": "code",
      "metadata": {
        "id": "fzDnFt4MVcwy"
      },
      "source": [
        "plt.rc('font', family='Malgun Gothic')\r\n",
        "plt.title(dong_name+' 남녀 시간대별 평균인구')\r\n",
        "plt.plot(male, color='b', label='남성')\r\n",
        "plt.plot(female, color='r', label='여성')\r\n",
        "plt.xlabel('시간대')\r\n",
        "plt.ylabel('평균인구수')\r\n",
        "plt.legend()\r\n",
        "plt.xticks(range(24), range(24))\r\n",
        "plt.show()\r\n"
      ],
      "execution_count": null,
      "outputs": []
    },
    {
      "cell_type": "markdown",
      "metadata": {
        "id": "bdms2-YpVHP8"
      },
      "source": [
        "## 하위목표3의 결과분석\r\n",
        "\r\n",
        "```\r\n",
        "- 압구정동에는 여성이 남성보다 항상 더 많다.\r\n",
        "- 남성 인구의 증감폭보다 여성 인구의 증감폭이 더 크다.\r\n",
        "- 만약 압구정동의 여성이 선호하는 핫플레이스라면 점심시간에 붐빌수도 있다.\r\n",
        "```\r\n",
        "\r\n",
        "\r\n"
      ]
    },
    {
      "cell_type": "markdown",
      "metadata": {
        "id": "1nvf9GALVkW6"
      },
      "source": [
        "## 하위목표 4  :  핫플레이스가 있는 행정동과 익숙한 행정동의 시간대별 평균인구 그래프 그려서 비교 분석하기\r\n",
        "\r\n",
        "<img src='https://github.com/Ahnjihye/allinone_AI/blob/images/96_%ED%95%AB%ED%94%8C_%ED%95%98%EC%9C%84%EB%AA%A9%ED%91%9C4.png?raw=true' width=300>\r\n",
        "\r\n",
        "\r\n"
      ]
    },
    {
      "cell_type": "markdown",
      "metadata": {
        "id": "A8dCGBuBVt0S"
      },
      "source": [
        "\r\n",
        "### 1) 알고리즘 작성 \r\n",
        "\r\n",
        "```\r\n",
        "1. 사용자에게서 행정동명을 입력받아 행정동코드를 구한 후 이 값을 dong_code에 저장하기\r\n",
        "2. 비교할 행정동명을 입력받아 행정동코드를 구한 후 이 값을 dong_code2에 저장하기\r\n",
        "3. 핫플레이스의 행정동 인구를 저장할 리스트(population)와 비교할 행정동 인구를 저장할 리스트(population2)를 길이 24로 만들고 초깃값 0 저장하기\r\n",
        "4. 인구 데이터(data)의 첫 행부터 마지막 행까지 돌며 반복하기\r\n",
        "  4.1 사용자가 입력한 행정동의 행정동코드(dong_code)와 인구 데이터(data)의 행정동코드(row[2])가 같다면\r\n",
        "    4.1.1 해당 행의 시간대(row[1])와 총생활인구수(row[3])를 각각 변수(time, p)에 저장하기\r\n",
        "    4.1.2 인덱스가 time인 population 리스트의 요소(population[time])에 총생활인구수(p)를 더하기\r\n",
        "4.2 비교할 행정동의 행정동코드(dong_code2)와 인구 데이터(data)의 행정동코드(열 인덱스 [2])가 같다면\r\n",
        "    4.2.1 해당 행의 시간대(열 인덱스[1])와 총생활인구수(열 인덱스[3])를 각각 변수(time, p)에 저장하기\r\n",
        "    4.2.2 인덱스가 time인 population2 리스트의 요소(population2[time])에 총생활인구수(p)를 더하기\r\n",
        "5. 반복이 끝나면 두 리스트(population, population2)의 모든 값을 31로 나누어 다시 저장하기\r\n",
        "6. 완성된 리스트로 두 지역의 시간대별 평균인구 그래프 그리기\r\n",
        "```\r\n"
      ]
    },
    {
      "cell_type": "markdown",
      "metadata": {
        "id": "AtPrU6amVkW8"
      },
      "source": [
        "### 2) 코드 작성하기"
      ]
    },
    {
      "cell_type": "code",
      "metadata": {
        "id": "xzQYBKpJVkW9"
      },
      "source": [
        "# 핫플레이스가 있는 행정동\r\n",
        "dong_name = input('핫플레이스가 위치한 행정동을 입력하세요 --> ')\r\n",
        "for row in code_data: \r\n",
        "    if row[-1] == dong_name: \r\n",
        "        dong_code = row[1]\r\n",
        "\r\n",
        "# 비교할 행정동\r\n",
        "dong_name2 = input('비교할 행정동을 입력하세요 --> ')\r\n",
        "for row in code_data: \r\n",
        "    if row[-1] == dong_name2: \r\n",
        "        dong_code2 = row[1]\r\n"
      ],
      "execution_count": null,
      "outputs": []
    },
    {
      "cell_type": "code",
      "metadata": {
        "id": "Dgt2J3KnVkW-"
      },
      "source": [
        "population = [0 for i in range(24)]\r\n",
        "population2 = [0 for i in range(24)]\r\n",
        "\r\n",
        "for row in data: \r\n",
        "    # 핫플레이스가 있는 행정동인 경우\r\n",
        "    if row[2] == dong_code: \r\n",
        "        time, p = row[1], row[3]\r\n",
        "        population[time] += p\r\n",
        "\r\n",
        "    # 비교할 지역의 행정동인 경우\r\n",
        "    elif row[2] == dong_code2: \r\n",
        "        time, p = row[1], row[3]\r\n",
        "        population2[time] += p\r\n",
        "\r\n",
        "population = [p/31 for p in population]\r\n",
        "population2 = [p/31 for p in population2]\r\n"
      ],
      "execution_count": null,
      "outputs": []
    },
    {
      "cell_type": "code",
      "metadata": {
        "id": "fy2ZuOaLrsXv"
      },
      "source": [
        "plt.title(dong_name + '과 ' + dong_name2 + ' 시간대별 평균인구 비교')\r\n",
        "plt.rc('font', family='Malgun Gothic')\r\n",
        "plt.plot(population, color='m', label=dong_name)\r\n",
        "plt.plot(population2, color='orange', label=dong_name2)\r\n",
        "plt.legend()\r\n",
        "plt.xlabel('시간대')\r\n",
        "plt.ylabel('평균인구수')\r\n",
        "plt.xticks(range(24), range(24))\r\n",
        "plt.show()\r\n"
      ],
      "execution_count": null,
      "outputs": []
    },
    {
      "cell_type": "markdown",
      "metadata": {
        "id": "fnyDIzCXVkW_"
      },
      "source": [
        "## 하위목표4의 결과분석\r\n",
        "\r\n",
        "```\r\n",
        "- 인구이동이 적은 새벽 인구가 해당 동에 거주하는 인구라 가정한다면, 역삼 2동이 압구정동보다 거주 인구가 많다.\r\n",
        "- 인구 이동은 역삼 2동보다 압구정동이 더 많다. \r\n",
        "- 대부분의 시간에는 역삼2동의 인구가 더 많지만 17~20시 사이에는 압구정동이 더 많다. \r\n",
        "- 17~20시에는 역삼2동으로, 그 외 시간대에는 압구정동으로 가는 것이 사람이 덜 붐빈다.\r\n",
        "```\r\n",
        "\r\n",
        "\r\n"
      ]
    },
    {
      "cell_type": "code",
      "metadata": {
        "id": "etnWKBDSVkW_"
      },
      "source": [
        ""
      ],
      "execution_count": null,
      "outputs": []
    }
  ]
}