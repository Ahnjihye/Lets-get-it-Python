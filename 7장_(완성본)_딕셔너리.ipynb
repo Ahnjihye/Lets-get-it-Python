{
  "nbformat": 4,
  "nbformat_minor": 0,
  "metadata": {
    "colab": {
      "name": "7장-(완성본)-딕셔너리.ipynb",
      "provenance": [],
      "collapsed_sections": [],
      "authorship_tag": "ABX9TyNJvZG+rSPhDCpCG2/VpWPb",
      "include_colab_link": true
    },
    "kernelspec": {
      "name": "python3",
      "display_name": "Python 3"
    }
  },
  "cells": [
    {
      "cell_type": "markdown",
      "metadata": {
        "id": "view-in-github",
        "colab_type": "text"
      },
      "source": [
        "<a href=\"https://colab.research.google.com/github/Ahnjihye/Python/blob/main/7%EC%9E%A5_(%EC%99%84%EC%84%B1%EB%B3%B8)_%EB%94%95%EC%85%94%EB%84%88%EB%A6%AC.ipynb\" target=\"_parent\"><img src=\"https://colab.research.google.com/assets/colab-badge.svg\" alt=\"Open In Colab\"/></a>"
      ]
    },
    {
      "cell_type": "markdown",
      "metadata": {
        "id": "YUjUXo-VVr_i"
      },
      "source": [
        "#  1. 딕셔너리\n",
        "Key (키) - Value (값) 대응    \n",
        "\n",
        "\n",
        "<img src = 'https://github.com/Ahnjihye/allinone_AI/blob/images/12_%EB%94%95%EC%85%94%EB%84%88%EB%A6%AC.png?raw=true' width =600>\n",
        "\n",
        "<br/>\n",
        "<br/>\n",
        "<img src='https://github.com/Ahnjihye/allinone_AI/blob/images/72_%EB%94%95%EC%85%94%EB%84%88%EB%A6%AC%20%EB%A6%AC%EC%8A%A4%ED%8A%B8%20%EB%B9%84%EA%B5%90.png?raw=true' width =400>\n",
        "\n",
        "<br/>\n",
        "\n",
        "```\n",
        "딕셔너리이름 = {키1 : 값1, 키2 : 값2, ... 키n : 값n}\n",
        "```"
      ]
    },
    {
      "cell_type": "code",
      "metadata": {
        "id": "muilZTAqVWSX",
        "colab": {
          "base_uri": "https://localhost:8080/"
        },
        "outputId": "3b960724-b73d-4859-a7da-c0439179062e"
      },
      "source": [
        "menu = {'김밥':2500, '참치김밥': 3500, '라면':3000, '치즈라면': 4000}\n",
        "menu"
      ],
      "execution_count": 1,
      "outputs": [
        {
          "output_type": "execute_result",
          "data": {
            "text/plain": [
              "{'김밥': 2500, '라면': 3000, '참치김밥': 3500, '치즈라면': 4000}"
            ]
          },
          "metadata": {
            "tags": []
          },
          "execution_count": 1
        }
      ]
    },
    {
      "cell_type": "code",
      "metadata": {
        "id": "m_L_9MFXHE-q",
        "colab": {
          "base_uri": "https://localhost:8080/",
          "height": 34
        },
        "outputId": "0a33e0c9-cbc8-4276-b547-023189f3dd1f"
      },
      "source": [
        "menu['참치김밥']"
      ],
      "execution_count": null,
      "outputs": [
        {
          "output_type": "execute_result",
          "data": {
            "text/plain": [
              "3500"
            ]
          },
          "metadata": {
            "tags": []
          },
          "execution_count": 2
        }
      ]
    },
    {
      "cell_type": "code",
      "metadata": {
        "id": "f8nsSOSgWiF_",
        "colab": {
          "base_uri": "https://localhost:8080/",
          "height": 34
        },
        "outputId": "397ca7d5-24f3-4dbb-f7a2-930359ed76d6"
      },
      "source": [
        "menu['치즈라면']"
      ],
      "execution_count": null,
      "outputs": [
        {
          "output_type": "execute_result",
          "data": {
            "text/plain": [
              "4000"
            ]
          },
          "metadata": {
            "tags": []
          },
          "execution_count": 3
        }
      ]
    },
    {
      "cell_type": "code",
      "metadata": {
        "id": "ZD5r03fYWiIn",
        "colab": {
          "base_uri": "https://localhost:8080/",
          "height": 52
        },
        "outputId": "12e2b3d5-d3a9-4e97-c3c2-2afee7f144ae"
      },
      "source": [
        "print(menu)\n",
        "\n",
        "# 참치김밥 인하 3000원\n",
        "menu['참치김밥'] = 3000\n",
        "\n",
        "print(menu)"
      ],
      "execution_count": null,
      "outputs": [
        {
          "output_type": "stream",
          "text": [
            "{'김밥': 2500, '참치김밥': 3500, '라면': 3000, '치즈라면': 4000}\n",
            "{'김밥': 2500, '참치김밥': 3000, '라면': 3000, '치즈라면': 4000}\n"
          ],
          "name": "stdout"
        }
      ]
    },
    {
      "cell_type": "code",
      "metadata": {
        "id": "dNCtUNpQWiC9",
        "colab": {
          "base_uri": "https://localhost:8080/",
          "height": 52
        },
        "outputId": "b0b31a97-c3e0-48a7-c090-dac7aab18791"
      },
      "source": [
        "print(menu)\n",
        "\n",
        "# 라면가격 인상 3500\n",
        "menu['라면'] = 3500\n",
        "\n",
        "print(menu)"
      ],
      "execution_count": null,
      "outputs": [
        {
          "output_type": "stream",
          "text": [
            "{'김밥': 2500, '참치김밥': 3000, '라면': 3000, '치즈라면': 4000}\n",
            "{'김밥': 2500, '참치김밥': 3000, '라면': 3500, '치즈라면': 4000}\n"
          ],
          "name": "stdout"
        }
      ]
    },
    {
      "cell_type": "code",
      "metadata": {
        "id": "2fEMex4SHszU",
        "colab": {
          "base_uri": "https://localhost:8080/",
          "height": 34
        },
        "outputId": "49158031-eadb-457a-bf81-10fa27c01d6f"
      },
      "source": [
        "# 돈가스 추가\n",
        "menu['돈가스']=6000\n",
        "print(menu)"
      ],
      "execution_count": null,
      "outputs": [
        {
          "output_type": "stream",
          "text": [
            "{'김밥': 2500, '참치김밥': 3000, '라면': 3500, '치즈라면': 4000, '돈가스': 6000}\n"
          ],
          "name": "stdout"
        }
      ]
    },
    {
      "cell_type": "markdown",
      "metadata": {
        "id": "xrO7GOZeF8-U"
      },
      "source": [
        "<img src = 'https://github.com/Ahnjihye/allinone_AI/blob/images/73_%EB%94%95%EC%85%94%EB%84%88%EB%A6%AC%5B%ED%82%A4%5D.png?raw=true' width=600>"
      ]
    },
    {
      "cell_type": "markdown",
      "metadata": {
        "id": "WU3kevp9H65l"
      },
      "source": [
        "# 2. 딕셔너리의 키와 값\n",
        "\n",
        "딕셔너리의 키만 꺼내기 \n",
        "> 딕셔너리이름.keys()\n",
        "\n",
        "<br/>\n",
        "\n",
        "딕셔너리의 값(value)만 꺼내기 \n",
        "> 딕셔너리이름.values()\n",
        "\n",
        "<br/>\n",
        "\n",
        "딕셔너리의 키-값 모두 꺼내기 \n",
        ">딕셔너리이름.items()\n",
        "\n",
        "\n",
        "\n"
      ]
    },
    {
      "cell_type": "code",
      "metadata": {
        "id": "DXX_OvkAHwpZ",
        "colab": {
          "base_uri": "https://localhost:8080/",
          "height": 34
        },
        "outputId": "a707b3a8-d280-4f33-d2cd-e08f2792684b"
      },
      "source": [
        "menu.keys()"
      ],
      "execution_count": null,
      "outputs": [
        {
          "output_type": "execute_result",
          "data": {
            "text/plain": [
              "dict_keys(['김밥', '참치김밥', '라면', '치즈라면', '돈가스'])"
            ]
          },
          "metadata": {
            "tags": []
          },
          "execution_count": 7
        }
      ]
    },
    {
      "cell_type": "code",
      "metadata": {
        "id": "0DV55KHaIWgw",
        "colab": {
          "base_uri": "https://localhost:8080/",
          "height": 34
        },
        "outputId": "ef0cd333-f6f7-4b9c-e834-0118a071ef3a"
      },
      "source": [
        "menu.values()"
      ],
      "execution_count": null,
      "outputs": [
        {
          "output_type": "execute_result",
          "data": {
            "text/plain": [
              "dict_values([2500, 3000, 3500, 4000, 6000])"
            ]
          },
          "metadata": {
            "tags": []
          },
          "execution_count": 8
        }
      ]
    },
    {
      "cell_type": "code",
      "metadata": {
        "id": "TLymlSQpIWe8",
        "colab": {
          "base_uri": "https://localhost:8080/",
          "height": 54
        },
        "outputId": "937bb179-a6ad-4881-fe9c-946c4bb04bbf"
      },
      "source": [
        "menu.items()"
      ],
      "execution_count": null,
      "outputs": [
        {
          "output_type": "execute_result",
          "data": {
            "text/plain": [
              "dict_items([('김밥', 2500), ('참치김밥', 3000), ('라면', 3500), ('치즈라면', 4000), ('돈가스', 6000)])"
            ]
          },
          "metadata": {
            "tags": []
          },
          "execution_count": 9
        }
      ]
    },
    {
      "cell_type": "code",
      "metadata": {
        "id": "hhowVdC3IWdJ",
        "colab": {
          "base_uri": "https://localhost:8080/",
          "height": 34
        },
        "outputId": "cb5e89e8-f2c9-43a3-f185-d0adf08cbba3"
      },
      "source": [
        "# 딕셔너리의 키를 리스트로 변환하기\n",
        "list(menu.keys())"
      ],
      "execution_count": null,
      "outputs": [
        {
          "output_type": "execute_result",
          "data": {
            "text/plain": [
              "['김밥', '참치김밥', '라면', '치즈라면', '돈가스']"
            ]
          },
          "metadata": {
            "tags": []
          },
          "execution_count": 10
        }
      ]
    },
    {
      "cell_type": "code",
      "metadata": {
        "id": "2gzBfJX9IWbN",
        "colab": {
          "base_uri": "https://localhost:8080/",
          "height": 34
        },
        "outputId": "362d1720-cf3d-44f0-cce4-96b9c3a8551e"
      },
      "source": [
        "# 딕셔너리의 값을 리스트로 변환하기\n",
        "list(menu.values())"
      ],
      "execution_count": null,
      "outputs": [
        {
          "output_type": "execute_result",
          "data": {
            "text/plain": [
              "[2500, 3000, 3500, 4000, 6000]"
            ]
          },
          "metadata": {
            "tags": []
          },
          "execution_count": 11
        }
      ]
    },
    {
      "cell_type": "markdown",
      "metadata": {
        "id": "mlwiPRL7I9EQ"
      },
      "source": [
        "# 3. 딕셔너리 정렬하기 \n",
        "\n",
        "> sorted( )\n",
        "\n",
        "```\n",
        "# 딕셔너리 키를 정렬\n",
        "sorted(딕셔너리.keys())\n",
        "\n",
        "# 딕셔너리 값을 정렬\n",
        "sorted(딕셔너리.values())\n",
        "\n",
        "# 딕셔너리 키-값을 정렬\n",
        "sorted(딕셔너리.items())\n",
        "```\n"
      ]
    },
    {
      "cell_type": "code",
      "metadata": {
        "id": "ETSdsoVgIWYO",
        "colab": {
          "base_uri": "https://localhost:8080/",
          "height": 34
        },
        "outputId": "9e3ffdec-a9d5-4b28-da11-50afd98bc242"
      },
      "source": [
        "sorted(menu.keys())"
      ],
      "execution_count": null,
      "outputs": [
        {
          "output_type": "execute_result",
          "data": {
            "text/plain": [
              "['김밥', '돈가스', '라면', '참치김밥', '치즈라면']"
            ]
          },
          "metadata": {
            "tags": []
          },
          "execution_count": 15
        }
      ]
    },
    {
      "cell_type": "code",
      "metadata": {
        "id": "bjpDRS6SJgF6",
        "colab": {
          "base_uri": "https://localhost:8080/",
          "height": 34
        },
        "outputId": "b294e1b1-2179-4003-f97d-eb7c8525bfac"
      },
      "source": [
        "sorted(menu.values())"
      ],
      "execution_count": null,
      "outputs": [
        {
          "output_type": "execute_result",
          "data": {
            "text/plain": [
              "[2500, 3000, 3500, 4000, 6000]"
            ]
          },
          "metadata": {
            "tags": []
          },
          "execution_count": 16
        }
      ]
    },
    {
      "cell_type": "code",
      "metadata": {
        "id": "bncTr6GMLOaM",
        "colab": {
          "base_uri": "https://localhost:8080/",
          "height": 34
        },
        "outputId": "6f669a1f-960f-4b8b-e3c7-d9c13034eb5f"
      },
      "source": [
        "# 가장 싼 음식의 가격은?\n",
        "sorted(menu.values())[0]"
      ],
      "execution_count": null,
      "outputs": [
        {
          "output_type": "execute_result",
          "data": {
            "text/plain": [
              "2500"
            ]
          },
          "metadata": {
            "tags": []
          },
          "execution_count": 18
        }
      ]
    },
    {
      "cell_type": "code",
      "metadata": {
        "id": "PPt8AS0HLUIo",
        "colab": {
          "base_uri": "https://localhost:8080/",
          "height": 34
        },
        "outputId": "84a26664-e9c2-4fe8-e4e5-f3f3a683bcdb"
      },
      "source": [
        "# 가장 싼 음식 두 개의 가격은?\n",
        "sorted(menu.values())[:2]"
      ],
      "execution_count": null,
      "outputs": [
        {
          "output_type": "execute_result",
          "data": {
            "text/plain": [
              "[2500, 3000]"
            ]
          },
          "metadata": {
            "tags": []
          },
          "execution_count": 19
        }
      ]
    },
    {
      "cell_type": "code",
      "metadata": {
        "id": "7iD_SBBBLXlL",
        "colab": {
          "base_uri": "https://localhost:8080/",
          "height": 34
        },
        "outputId": "0c223058-d672-488f-9015-60bc08cda648"
      },
      "source": [
        "# 가장 비싼 음식의 두 개의 가격은?\n",
        "sorted(menu.values())[-2:]"
      ],
      "execution_count": null,
      "outputs": [
        {
          "output_type": "execute_result",
          "data": {
            "text/plain": [
              "[4000, 6000]"
            ]
          },
          "metadata": {
            "tags": []
          },
          "execution_count": 20
        }
      ]
    },
    {
      "cell_type": "markdown",
      "metadata": {
        "id": "wzsTBWjPwBPz"
      },
      "source": [
        "### 오름차순, 내림차순 옵션 reverse\r\n",
        "\r\n",
        "> sorted(정렬할 대상, reverse = True/False)"
      ]
    },
    {
      "cell_type": "code",
      "metadata": {
        "id": "Pg_GLT2oLreA",
        "colab": {
          "base_uri": "https://localhost:8080/",
          "height": 34
        },
        "outputId": "e4724eab-2b99-45a4-a22b-3c1cdb934dc4"
      },
      "source": [
        "sorted(menu.keys(), reverse = True)"
      ],
      "execution_count": null,
      "outputs": [
        {
          "output_type": "execute_result",
          "data": {
            "text/plain": [
              "['치즈라면', '참치김밥', '라면', '돈가스', '김밥']"
            ]
          },
          "metadata": {
            "tags": []
          },
          "execution_count": 22
        }
      ]
    },
    {
      "cell_type": "code",
      "metadata": {
        "id": "o4sYzkMzLuD4",
        "colab": {
          "base_uri": "https://localhost:8080/",
          "height": 34
        },
        "outputId": "c22eada3-d3f1-4ac7-a3ff-6839137984b5"
      },
      "source": [
        "sorted(menu.values(), reverse = True)"
      ],
      "execution_count": null,
      "outputs": [
        {
          "output_type": "execute_result",
          "data": {
            "text/plain": [
              "[6000, 4000, 3500, 3000, 2500]"
            ]
          },
          "metadata": {
            "tags": []
          },
          "execution_count": 23
        }
      ]
    },
    {
      "cell_type": "code",
      "metadata": {
        "id": "Jrp5KKgfJgNb",
        "colab": {
          "base_uri": "https://localhost:8080/",
          "height": 54
        },
        "outputId": "100d67b9-7301-48fb-baab-9eca31bdbac4"
      },
      "source": [
        "sorted(menu.items())"
      ],
      "execution_count": null,
      "outputs": [
        {
          "output_type": "execute_result",
          "data": {
            "text/plain": [
              "[('김밥', 2500), ('돈가스', 6000), ('라면', 3500), ('참치김밥', 3000), ('치즈라면', 4000)]"
            ]
          },
          "metadata": {
            "tags": []
          },
          "execution_count": 21
        }
      ]
    },
    {
      "cell_type": "markdown",
      "metadata": {
        "id": "PTYAzHvFLHUk"
      },
      "source": [
        "\n",
        "\n",
        "```\n",
        "# 딕셔너리 키-값은 자동으로 키를 기준으로 정렬됨\n",
        "sorted(딕셔너리.items())\n",
        "```\n",
        "\n"
      ]
    },
    {
      "cell_type": "code",
      "metadata": {
        "id": "wrsd9v3_JgK8",
        "colab": {
          "base_uri": "https://localhost:8080/",
          "height": 54
        },
        "outputId": "fc0ff2e8-47cd-4499-8a6d-f0999fa980f0"
      },
      "source": [
        "# 딕셔너리 키-값 정렬시 값을 기준으로 정렬하기\n",
        "import operator \n",
        "\n",
        "sorted(menu.items(), key=operator.itemgetter(1))"
      ],
      "execution_count": null,
      "outputs": [
        {
          "output_type": "execute_result",
          "data": {
            "text/plain": [
              "[('김밥', 2500), ('참치김밥', 3000), ('라면', 3500), ('치즈라면', 4000), ('돈가스', 6000)]"
            ]
          },
          "metadata": {
            "tags": []
          },
          "execution_count": 24
        }
      ]
    },
    {
      "cell_type": "code",
      "metadata": {
        "id": "PLFvCYtvJgA9",
        "colab": {
          "base_uri": "https://localhost:8080/",
          "height": 34
        },
        "outputId": "58f0714a-cb40-48c8-a5c7-1b78293d5cf7"
      },
      "source": [
        "# 가장 싼 음식은 무엇인가?\n",
        "sorted(menu.items(), key=operator.itemgetter(1))[0]"
      ],
      "execution_count": null,
      "outputs": [
        {
          "output_type": "execute_result",
          "data": {
            "text/plain": [
              "('김밥', 2500)"
            ]
          },
          "metadata": {
            "tags": []
          },
          "execution_count": 25
        }
      ]
    },
    {
      "cell_type": "code",
      "metadata": {
        "id": "hykiPb9gIVPy",
        "colab": {
          "base_uri": "https://localhost:8080/",
          "height": 34
        },
        "outputId": "2a12680d-a4e6-4e3e-fb60-3bd89b13cedd"
      },
      "source": [
        "# 가장 싼 음식 두 개는 무엇인가?\n",
        "sorted(menu.items(), key=operator.itemgetter(1))[:2]"
      ],
      "execution_count": null,
      "outputs": [
        {
          "output_type": "execute_result",
          "data": {
            "text/plain": [
              "[('김밥', 2500), ('참치김밥', 3000)]"
            ]
          },
          "metadata": {
            "tags": []
          },
          "execution_count": 27
        }
      ]
    },
    {
      "cell_type": "code",
      "metadata": {
        "id": "w-ALYJpJNPPJ",
        "colab": {
          "base_uri": "https://localhost:8080/",
          "height": 34
        },
        "outputId": "6b1cf1d4-f284-4693-bad1-f645ec527304"
      },
      "source": [
        "# 역순 정렬\n",
        "sorted(menu.items(), key=operator.itemgetter(1), reverse = True)"
      ],
      "execution_count": null,
      "outputs": [
        {
          "output_type": "execute_result",
          "data": {
            "text/plain": [
              "[('돈가스', 6000), ('치즈라면', 4000), ('라면', 3500), ('참치김밥', 3000), ('김밥', 2500)]"
            ]
          },
          "metadata": {
            "tags": []
          },
          "execution_count": 29
        }
      ]
    },
    {
      "cell_type": "code",
      "metadata": {
        "id": "iDhLDbC3NVcX",
        "colab": {
          "base_uri": "https://localhost:8080/",
          "height": 34
        },
        "outputId": "5ca69f07-dc27-4e56-9407-718bd4421872"
      },
      "source": [
        "# 가장 비싼 음식 두 개는? \n",
        "sorted(menu.items(), key=operator.itemgetter(1), reverse = True)[:2]"
      ],
      "execution_count": null,
      "outputs": [
        {
          "output_type": "execute_result",
          "data": {
            "text/plain": [
              "[('돈가스', 6000), ('치즈라면', 4000)]"
            ]
          },
          "metadata": {
            "tags": []
          },
          "execution_count": 30
        }
      ]
    },
    {
      "cell_type": "markdown",
      "metadata": {
        "id": "uFj8bD4j9O-f"
      },
      "source": [
        "# 4. 딕셔너리와 제어구조\r\n",
        "\r\n",
        "\r\n",
        "\r\n",
        "```\r\n",
        "# 다섯 명의 중간고사 점수를 저장한 딕셔너리\r\n",
        "midterm = {'도윤': 43, '하윤': 82, '시우': 76, '지유': 61, '주원': 94}\r\n",
        "```\r\n"
      ]
    },
    {
      "cell_type": "code",
      "metadata": {
        "colab": {
          "base_uri": "https://localhost:8080/"
        },
        "id": "-qj88bkQ9anF",
        "outputId": "5a99d45d-a67d-417b-e1a7-ff4f7df1f96f"
      },
      "source": [
        "# 학생 이름을 입력받나, 딕셔너리에 학생 이름이 있으면 점수를 출력\r\n",
        "# 없다면 '해당 학생이 없습니다.' 출력하기 \r\n",
        "midterm = {'도윤': 43, '하윤': 82, '시우': 76, '지유': 61, '주원': 94}\r\n",
        "\r\n",
        "student = input('어떤 학생의 점수가 궁금한가요? ')\r\n",
        "\r\n",
        "if student in midterm.keys() : \r\n",
        "    print(midterm[student],'점 입니다.')\r\n",
        "else : \r\n",
        "    print('해당 학생이 없습니다.')"
      ],
      "execution_count": 16,
      "outputs": [
        {
          "output_type": "stream",
          "text": [
            "어떤 학생의 점수가 궁금한가요? 졔졔\n",
            "해당 학생이 없습니다.\n"
          ],
          "name": "stdout"
        }
      ]
    },
    {
      "cell_type": "code",
      "metadata": {
        "colab": {
          "base_uri": "https://localhost:8080/"
        },
        "id": "SaGbxT9b9apS",
        "outputId": "9bbd7ab0-3e52-4a8e-ad11-07e268965961"
      },
      "source": [
        "# 딕셔너리에 저장된 모든 학생의 이름 출력하기\r\n",
        "for k in midterm.keys() : \r\n",
        "    print(k)"
      ],
      "execution_count": 17,
      "outputs": [
        {
          "output_type": "stream",
          "text": [
            "도윤\n",
            "하윤\n",
            "시우\n",
            "지유\n",
            "주원\n"
          ],
          "name": "stdout"
        }
      ]
    },
    {
      "cell_type": "markdown",
      "metadata": {
        "id": "9Fw3YuxyAAsk"
      },
      "source": [
        "<img src='https://github.com/Ahnjihye/allinone_AI/blob/images/76_%EB%94%95%EC%85%94%EB%84%88%EB%A6%AC_%ED%82%A4%EB%B0%98%EB%B3%B5.png?raw=true' width=600>"
      ]
    },
    {
      "cell_type": "code",
      "metadata": {
        "colab": {
          "base_uri": "https://localhost:8080/"
        },
        "id": "RQkgM-Io-m95",
        "outputId": "465c2388-78f0-42f0-9034-8b8b1e51eec8"
      },
      "source": [
        "# 딕셔너리에 저장된 모든 점수 출력하기\r\n",
        "for v in midterm.values() : \r\n",
        "    print(v)"
      ],
      "execution_count": 18,
      "outputs": [
        {
          "output_type": "stream",
          "text": [
            "43\n",
            "82\n",
            "76\n",
            "61\n",
            "94\n"
          ],
          "name": "stdout"
        }
      ]
    },
    {
      "cell_type": "markdown",
      "metadata": {
        "id": "0SyNJh_FAGA7"
      },
      "source": [
        "<img src='https://github.com/Ahnjihye/allinone_AI/blob/images/77_%EB%94%95%EC%85%94%EB%84%88%EB%A6%AC_%EA%B0%92%EB%B0%98%EB%B3%B5.png?raw=true' width=600>"
      ]
    },
    {
      "cell_type": "code",
      "metadata": {
        "colab": {
          "base_uri": "https://localhost:8080/"
        },
        "id": "2sP5sm_9-nTQ",
        "outputId": "e90f4a3d-98cd-4e58-c512-32fceaabf703"
      },
      "source": [
        "# 딕셔너리에 저장된 모든 학생과 점수를 같이 출력하기\r\n",
        "for i in midterm.items() : \r\n",
        "    print(i)"
      ],
      "execution_count": 19,
      "outputs": [
        {
          "output_type": "stream",
          "text": [
            "('도윤', 43)\n",
            "('하윤', 82)\n",
            "('시우', 76)\n",
            "('지유', 61)\n",
            "('주원', 94)\n"
          ],
          "name": "stdout"
        }
      ]
    },
    {
      "cell_type": "code",
      "metadata": {
        "colab": {
          "base_uri": "https://localhost:8080/"
        },
        "id": "ta1vpZK3A4mZ",
        "outputId": "a09a9619-a4a3-4355-eb85-d69153efd573"
      },
      "source": [
        "for k, v in midterm.items() :\r\n",
        "    print(k,'의 점수는', v)"
      ],
      "execution_count": 20,
      "outputs": [
        {
          "output_type": "stream",
          "text": [
            "도윤 의 점수는 43\n",
            "하윤 의 점수는 82\n",
            "시우 의 점수는 76\n",
            "지유 의 점수는 61\n",
            "주원 의 점수는 94\n"
          ],
          "name": "stdout"
        }
      ]
    },
    {
      "cell_type": "markdown",
      "metadata": {
        "id": "Z7Iu73cvAFOF"
      },
      "source": [
        "<img src='https://github.com/Ahnjihye/allinone_AI/blob/images/78_%EB%94%95%EC%85%94%EB%84%88%EB%A6%AC_%EC%95%84%EC%9D%B4%ED%85%9C%EB%B0%98%EB%B3%B5.png?raw=true' width=600>"
      ]
    },
    {
      "cell_type": "code",
      "metadata": {
        "id": "SNPXwr3yAOOx"
      },
      "source": [
        ""
      ],
      "execution_count": null,
      "outputs": []
    }
  ]
}