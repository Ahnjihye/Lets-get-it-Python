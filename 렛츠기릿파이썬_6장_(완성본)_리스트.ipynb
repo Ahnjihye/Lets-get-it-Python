{
  "nbformat": 4,
  "nbformat_minor": 0,
  "metadata": {
    "colab": {
      "name": "렛츠기릿파이썬-6장-(완성본)-리스트.ipynb",
      "provenance": [],
      "collapsed_sections": [],
      "authorship_tag": "ABX9TyNI1lWkKixPBgVfIkAYgdDY",
      "include_colab_link": true
    },
    "kernelspec": {
      "name": "python3",
      "display_name": "Python 3"
    }
  },
  "cells": [
    {
      "cell_type": "markdown",
      "metadata": {
        "id": "view-in-github",
        "colab_type": "text"
      },
      "source": [
        "<a href=\"https://colab.research.google.com/github/Ahnjihye/Lets-get-it-Python/blob/main/%EB%A0%9B%EC%B8%A0%EA%B8%B0%EB%A6%BF%ED%8C%8C%EC%9D%B4%EC%8D%AC_6%EC%9E%A5_(%EC%99%84%EC%84%B1%EB%B3%B8)_%EB%A6%AC%EC%8A%A4%ED%8A%B8.ipynb\" target=\"_parent\"><img src=\"https://colab.research.google.com/assets/colab-badge.svg\" alt=\"Open In Colab\"/></a>"
      ]
    },
    {
      "cell_type": "markdown",
      "metadata": {
        "id": "6n9IjADZt4Z5"
      },
      "source": [
        "#  1. 리스트\n",
        "\n",
        "```\n",
        "리스트 여러 데이터를 한 번에 묶어서 표현\n",
        "리스트이름 = [데이터1, 데이터2, ..., 데이터n]\n",
        "```\n",
        "\n",
        "> 실생활의 리스트 \n",
        "    \n",
        "<img src='https://github.com/Ahnjihye/allinone_AI/blob/images/56_%EC%82%AC%EC%95%BC%ED%95%A0%20%EB%A6%AC%EC%8A%A4%ED%8A%B8.png?raw=true' width=150>\n",
        "\n",
        "</br>\n",
        "</br>\n",
        "\n",
        "> 파이썬의 리스트\n",
        "\n",
        "<img src='https://github.com/Ahnjihye/allinone_AI/blob/images/6_%EB%A6%AC%EC%8A%A4%ED%8A%B8%EA%B0%9C%EB%85%90.png?raw=true' width=600>\n",
        "\n",
        "\n",
        "\n"
      ]
    },
    {
      "cell_type": "code",
      "metadata": {
        "id": "FAe8AhxFMRWQ"
      },
      "source": [
        "# 1월 지출부터 6월 지출까지 리스트로 만들기\n",
        "spend = [25,36,8,53,24,56]"
      ],
      "execution_count": null,
      "outputs": []
    },
    {
      "cell_type": "code",
      "metadata": {
        "id": "AfL3S1RbMRZb",
        "colab": {
          "base_uri": "https://localhost:8080/"
        },
        "outputId": "cdc624b8-4fd1-4bc7-b875-6fd71cadf054"
      },
      "source": [
        "spend"
      ],
      "execution_count": null,
      "outputs": [
        {
          "output_type": "execute_result",
          "data": {
            "text/plain": [
              "[25, 36, 8, 53, 24, 56]"
            ]
          },
          "metadata": {
            "tags": []
          },
          "execution_count": 7
        }
      ]
    },
    {
      "cell_type": "code",
      "metadata": {
        "id": "pletqKwvMRcq",
        "colab": {
          "base_uri": "https://localhost:8080/"
        },
        "outputId": "2e15fab0-b2ac-4852-b2ae-a911b3d36ef3"
      },
      "source": [
        "type(spend)"
      ],
      "execution_count": null,
      "outputs": [
        {
          "output_type": "execute_result",
          "data": {
            "text/plain": [
              "list"
            ]
          },
          "metadata": {
            "tags": []
          },
          "execution_count": 8
        }
      ]
    },
    {
      "cell_type": "markdown",
      "metadata": {
        "id": "TKe3-L5lNYYN"
      },
      "source": [
        "### 리스트와 인덱스\n",
        "<img src ='https://github.com/Ahnjihye/allinone_AI/blob/images/7_%EB%A6%AC%EC%8A%A4%ED%8A%B8%EC%9D%B8%EB%8D%B1%EC%8A%A4.png?raw=true' width =700>"
      ]
    },
    {
      "cell_type": "code",
      "metadata": {
        "id": "l97FX7QOMlYm",
        "colab": {
          "base_uri": "https://localhost:8080/"
        },
        "outputId": "5878c240-c59b-4dcd-f640-c8ff35db58b3"
      },
      "source": [
        "# 1월 지출은?\n",
        "print(spend[0])"
      ],
      "execution_count": null,
      "outputs": [
        {
          "output_type": "stream",
          "text": [
            "25\n"
          ],
          "name": "stdout"
        }
      ]
    },
    {
      "cell_type": "code",
      "metadata": {
        "id": "XQJ_ouroMlaz",
        "colab": {
          "base_uri": "https://localhost:8080/"
        },
        "outputId": "38567344-7fb6-4442-a294-698f7c9ed9d5"
      },
      "source": [
        "# 6월 지출은?\n",
        "print(spend[5])"
      ],
      "execution_count": null,
      "outputs": [
        {
          "output_type": "stream",
          "text": [
            "56\n"
          ],
          "name": "stdout"
        }
      ]
    },
    {
      "cell_type": "code",
      "metadata": {
        "id": "70ooJdGDMlh4",
        "colab": {
          "base_uri": "https://localhost:8080/"
        },
        "outputId": "d71f0421-a471-4a88-cb63-43de8b791431"
      },
      "source": [
        "# 3월 지출은?\n",
        "print(spend[2])"
      ],
      "execution_count": null,
      "outputs": [
        {
          "output_type": "stream",
          "text": [
            "8\n"
          ],
          "name": "stdout"
        }
      ]
    },
    {
      "cell_type": "markdown",
      "metadata": {
        "id": "Er1EdCA3jfx3"
      },
      "source": [
        "알고보니 4월 지출이 10낮게 기록됐다. 4월 지출에 10을 더하시오"
      ]
    },
    {
      "cell_type": "code",
      "metadata": {
        "id": "tLt7P-A2Mlkq",
        "colab": {
          "base_uri": "https://localhost:8080/"
        },
        "outputId": "b72a576a-ff31-4575-85ce-22d03867a0c5"
      },
      "source": [
        "print('변경 전 :', spend)\n",
        "\n",
        "spend[3] += 10\n",
        "\n",
        "print('변경 후 :', spend)"
      ],
      "execution_count": null,
      "outputs": [
        {
          "output_type": "stream",
          "text": [
            "변경 전 : [25, 36, 8, 53, 24, 56]\n",
            "변경 후 : [25, 36, 8, 63, 24, 56]\n"
          ],
          "name": "stdout"
        }
      ]
    },
    {
      "cell_type": "markdown",
      "metadata": {
        "id": "BZTdPe8Bjk_p"
      },
      "source": [
        "5월 지출을 2로 나누시오"
      ]
    },
    {
      "cell_type": "code",
      "metadata": {
        "id": "UGAtSnXaNpy6",
        "colab": {
          "base_uri": "https://localhost:8080/"
        },
        "outputId": "ed64b08a-0eb1-4807-bb27-6d513d6e1be7"
      },
      "source": [
        "print('변경 전 :', spend)\n",
        "\n",
        "spend[4] /= 2\n",
        "\n",
        "print('변경 후 :', spend)"
      ],
      "execution_count": null,
      "outputs": [
        {
          "output_type": "stream",
          "text": [
            "변경 전 : [25, 36, 8, 63, 24, 56]\n",
            "변경 후 : [25, 36, 8, 63, 12.0, 56]\n"
          ],
          "name": "stdout"
        }
      ]
    },
    {
      "cell_type": "markdown",
      "metadata": {
        "id": "6GNtA_6rE1lY"
      },
      "source": [
        "### 마이너스 인덱스\n",
        "\n",
        "<img src = 'https://github.com/Ahnjihye/allinone_AI/blob/images/8_%EB%A6%AC%EC%8A%A4%ED%8A%B8%20%EB%A7%88%EC%9D%B4%EB%84%88%EC%8A%A4%EC%9D%B8%EB%8D%B1%EC%8A%A4.png?raw=true' width=500>"
      ]
    },
    {
      "cell_type": "code",
      "metadata": {
        "id": "VYSsCWAuMlVF",
        "colab": {
          "base_uri": "https://localhost:8080/"
        },
        "outputId": "03cc8af2-c585-48d1-fcab-25279e77bd1c"
      },
      "source": [
        "print(spend[5])\n",
        "print(spend[-1])"
      ],
      "execution_count": null,
      "outputs": [
        {
          "output_type": "stream",
          "text": [
            "56\n",
            "56\n"
          ],
          "name": "stdout"
        }
      ]
    },
    {
      "cell_type": "code",
      "metadata": {
        "colab": {
          "base_uri": "https://localhost:8080/"
        },
        "id": "0Q691rtv9-bt",
        "outputId": "28417ac4-dea0-4c66-abe9-5af98fdeafda"
      },
      "source": [
        "print(spend[4])\n",
        "print(spend[-2])"
      ],
      "execution_count": null,
      "outputs": [
        {
          "output_type": "stream",
          "text": [
            "12.0\n",
            "12.0\n"
          ],
          "name": "stdout"
        }
      ]
    },
    {
      "cell_type": "markdown",
      "metadata": {
        "id": "mcMUi8x-OEod"
      },
      "source": [
        "#  2.  리스트의 다양한 기능\n",
        "\n",
        "### 리스트 길이 확인 \n",
        "> len(리스트이름)           \n",
        "\n"
      ]
    },
    {
      "cell_type": "code",
      "metadata": {
        "id": "PVBaOrEONp4H",
        "colab": {
          "base_uri": "https://localhost:8080/"
        },
        "outputId": "98706fde-d3c1-4ad2-aac3-0375ffcf56b5"
      },
      "source": [
        "len(spend)"
      ],
      "execution_count": null,
      "outputs": [
        {
          "output_type": "execute_result",
          "data": {
            "text/plain": [
              "6"
            ]
          },
          "metadata": {
            "tags": []
          },
          "execution_count": 22
        }
      ]
    },
    {
      "cell_type": "markdown",
      "metadata": {
        "id": "E_Y7AFD0TFIB"
      },
      "source": [
        "### 리스트에 데이터 추가하기\n",
        "\n",
        "> 리스트이름.append(데이터)  \n",
        "\n",
        "\n",
        "\n",
        "```\n",
        "food = ['피자','치킨','떡볶이','스테이크','파스타']\n",
        "```\n",
        "\n",
        "\n"
      ]
    },
    {
      "cell_type": "code",
      "metadata": {
        "id": "PYw7ooYGNp65",
        "colab": {
          "base_uri": "https://localhost:8080/"
        },
        "outputId": "1281f874-d2d5-49f3-cbf3-7233308f7822"
      },
      "source": [
        "food = ['피자','치킨','떡볶이','스테이크','파스타']\n",
        "\n",
        "# 감자칩 추가\n",
        "food.append('감자칩')\n",
        "print(food)"
      ],
      "execution_count": null,
      "outputs": [
        {
          "output_type": "stream",
          "text": [
            "['피자', '치킨', '떡볶이', '스테이크', '파스타', '감자칩']\n"
          ],
          "name": "stdout"
        }
      ]
    },
    {
      "cell_type": "code",
      "metadata": {
        "colab": {
          "base_uri": "https://localhost:8080/"
        },
        "id": "I7i_vU_D-rGP",
        "outputId": "876989ae-d2fb-4278-ba08-dfb546404a26"
      },
      "source": [
        "# 카레 추가\n",
        "food.append('카레')\n",
        "print(food)"
      ],
      "execution_count": null,
      "outputs": [
        {
          "output_type": "stream",
          "text": [
            "['피자', '치킨', '떡볶이', '스테이크', '파스타', '감자칩', '카레']\n"
          ],
          "name": "stdout"
        }
      ]
    },
    {
      "cell_type": "markdown",
      "metadata": {
        "id": "IGU9mv18M_PG"
      },
      "source": [
        "### 빈 리스트 만들고 데이터 추가하기"
      ]
    },
    {
      "cell_type": "code",
      "metadata": {
        "colab": {
          "base_uri": "https://localhost:8080/"
        },
        "id": "GYzqWARONDK-",
        "outputId": "e84f1aea-b52f-4179-a4ec-04b7db257420"
      },
      "source": [
        "# 해야할 일을 저장하는 리스트 to_do\n",
        "to_do = []\n",
        "\n",
        "to_do.append('파이썬 공부')\n",
        "print(to_do)"
      ],
      "execution_count": null,
      "outputs": [
        {
          "output_type": "stream",
          "text": [
            "['파이썬 공부']\n"
          ],
          "name": "stdout"
        }
      ]
    },
    {
      "cell_type": "code",
      "metadata": {
        "colab": {
          "base_uri": "https://localhost:8080/"
        },
        "id": "StowkhzONDOz",
        "outputId": "38c0b67c-55d8-4e7c-aecb-398a0baf3908"
      },
      "source": [
        "# 해야할 일을 입력받아 to_do에 저장하기\n",
        "to_do = []\n",
        "\n",
        "task = input('해야할 일을 입력하세요 ')\n",
        "to_do.append(task)\n",
        "print(to_do)"
      ],
      "execution_count": null,
      "outputs": [
        {
          "output_type": "stream",
          "text": [
            "해야할 일을 입력하세요 파이썬 6장 공부\n",
            "['파이썬 6장 공부']\n"
          ],
          "name": "stdout"
        }
      ]
    },
    {
      "cell_type": "code",
      "metadata": {
        "colab": {
          "base_uri": "https://localhost:8080/"
        },
        "id": "nUvvSu-_NDsg",
        "outputId": "58480dc2-9957-4201-bee3-f3b177821a6c"
      },
      "source": [
        "task = input('해야할 일을 입력하세요 ')\n",
        "to_do.append(task)\n",
        "print(to_do)"
      ],
      "execution_count": null,
      "outputs": [
        {
          "output_type": "stream",
          "text": [
            "해야할 일을 입력하세요 책 읽기\n",
            "['파이썬 6장 공부', '책 읽기']\n"
          ],
          "name": "stdout"
        }
      ]
    },
    {
      "cell_type": "markdown",
      "metadata": {
        "id": "VcinMKvjPO_n"
      },
      "source": [
        "### 리스트 슬라이싱\n",
        "\n",
        "\n",
        "> 리스트[시작숫자 : 종료숫자]\n",
        "\n",
        "<img src = 'https://github.com/Ahnjihye/allinone_AI/blob/images/9_%EB%A6%AC%EC%8A%A4%ED%8A%B8%EC%8A%AC%EB%9D%BC%EC%9D%B4%EC%8B%B1.png?raw=true' width=500>\n",
        "\n",
        "\n",
        "종료숫자-1 까지 잘라내는 것\n",
        "\n",
        "```\n",
        "abc[2:5]       # abc[2]~abc[4]까지 슬라이싱\n",
        "abc[4:9]       # abc[4]~abc[8]까지 슬라이싱\n",
        "```\n",
        "\n",
        "\n",
        "\n",
        "\n",
        "```\n",
        "food = ['피자','치킨','떡볶이','스테이크','파스타']\n",
        "```\n",
        "\n",
        "\n",
        "\n",
        "\n",
        "\n",
        "\n"
      ]
    },
    {
      "cell_type": "code",
      "metadata": {
        "id": "skKBPcWnO31V"
      },
      "source": [
        "food = ['피자','치킨','떡볶이','스테이크','파스타']"
      ],
      "execution_count": null,
      "outputs": []
    },
    {
      "cell_type": "code",
      "metadata": {
        "id": "5T90E9u2PzQl",
        "colab": {
          "base_uri": "https://localhost:8080/"
        },
        "outputId": "463500c9-fc77-479f-aeba-cab3c8022703"
      },
      "source": [
        "# 떡볶이, 스테이크만 골라내기\n",
        "food[2:4]"
      ],
      "execution_count": null,
      "outputs": [
        {
          "output_type": "execute_result",
          "data": {
            "text/plain": [
              "['떡볶이', '스테이크']"
            ]
          },
          "metadata": {
            "tags": []
          },
          "execution_count": 16
        }
      ]
    },
    {
      "cell_type": "code",
      "metadata": {
        "id": "u8_ZjYbVPzXv",
        "colab": {
          "base_uri": "https://localhost:8080/"
        },
        "outputId": "2f986a52-b02e-4e50-e5f9-8098770dd9ff"
      },
      "source": [
        "# 처음부터 스테이크까지 골라내기\n",
        "food[:3]"
      ],
      "execution_count": null,
      "outputs": [
        {
          "output_type": "execute_result",
          "data": {
            "text/plain": [
              "['피자', '치킨', '떡볶이']"
            ]
          },
          "metadata": {
            "tags": []
          },
          "execution_count": 18
        }
      ]
    },
    {
      "cell_type": "code",
      "metadata": {
        "id": "DGT1u07APzWH",
        "colab": {
          "base_uri": "https://localhost:8080/"
        },
        "outputId": "06d35789-2ffb-4f0e-dd7c-4b620877b004"
      },
      "source": [
        "# 뒤에서 n개 데이터 슬라이싱\n",
        "food[-2:]"
      ],
      "execution_count": null,
      "outputs": [
        {
          "output_type": "execute_result",
          "data": {
            "text/plain": [
              "['스테이크', '파스타']"
            ]
          },
          "metadata": {
            "tags": []
          },
          "execution_count": 20
        }
      ]
    },
    {
      "cell_type": "markdown",
      "metadata": {
        "id": "2GzeP7MRQ1BC"
      },
      "source": [
        "### 문자열 슬라이싱"
      ]
    },
    {
      "cell_type": "code",
      "metadata": {
        "id": "trbsdMEzQ38P"
      },
      "source": [
        "date = '2021-01-25'"
      ],
      "execution_count": null,
      "outputs": []
    },
    {
      "cell_type": "code",
      "metadata": {
        "id": "uJp-ceSnQ3_b",
        "colab": {
          "base_uri": "https://localhost:8080/"
        },
        "outputId": "a82355ab-3193-44b2-cdd3-fa15eab972b5"
      },
      "source": [
        "date[:4]"
      ],
      "execution_count": null,
      "outputs": [
        {
          "output_type": "execute_result",
          "data": {
            "text/plain": [
              "['2021-01-25']"
            ]
          },
          "metadata": {
            "tags": []
          },
          "execution_count": 23
        }
      ]
    },
    {
      "cell_type": "code",
      "metadata": {
        "id": "cUQ_6ORgQ4BE",
        "colab": {
          "base_uri": "https://localhost:8080/",
          "height": 35
        },
        "outputId": "ec2093b5-6b8c-4ca4-ffbf-b37e274ced90"
      },
      "source": [
        "date[-2:]"
      ],
      "execution_count": null,
      "outputs": [
        {
          "output_type": "execute_result",
          "data": {
            "application/vnd.google.colaboratory.intrinsic+json": {
              "type": "string"
            },
            "text/plain": [
              "'25'"
            ]
          },
          "metadata": {
            "tags": []
          },
          "execution_count": 43
        }
      ]
    },
    {
      "cell_type": "code",
      "metadata": {
        "colab": {
          "base_uri": "https://localhost:8080/",
          "height": 35
        },
        "id": "y1Wh1NQqDTc2",
        "outputId": "ff671bef-1d46-491c-86a3-996b61da2938"
      },
      "source": [
        "date[5:7]"
      ],
      "execution_count": null,
      "outputs": [
        {
          "output_type": "execute_result",
          "data": {
            "application/vnd.google.colaboratory.intrinsic+json": {
              "type": "string"
            },
            "text/plain": [
              "'01'"
            ]
          },
          "metadata": {
            "tags": []
          },
          "execution_count": 44
        }
      ]
    },
    {
      "cell_type": "markdown",
      "metadata": {
        "id": "Teyp7VgNO0Rt"
      },
      "source": [
        "### split()으로 문자열 슬라이싱"
      ]
    },
    {
      "cell_type": "code",
      "metadata": {
        "id": "EsKzoWaCO4u5"
      },
      "source": [
        "date = '2021-01-25 월요일'"
      ],
      "execution_count": null,
      "outputs": []
    },
    {
      "cell_type": "code",
      "metadata": {
        "colab": {
          "base_uri": "https://localhost:8080/"
        },
        "id": "a7DAbSNRO4yY",
        "outputId": "2e99c63c-3a1f-443a-edb1-e9d26e622e5e"
      },
      "source": [
        "# 공백을 기준으로 split\n",
        "date.split()"
      ],
      "execution_count": null,
      "outputs": [
        {
          "output_type": "execute_result",
          "data": {
            "text/plain": [
              "['2021-01-25', '월요일']"
            ]
          },
          "metadata": {
            "tags": []
          },
          "execution_count": 25
        }
      ]
    },
    {
      "cell_type": "code",
      "metadata": {
        "colab": {
          "base_uri": "https://localhost:8080/"
        },
        "id": "6hR9rP6vO41D",
        "outputId": "d05a1f2d-9fa8-49c5-9423-6533fed7bd6e"
      },
      "source": [
        "# 0을 기준으로 split\n",
        "date.split('0')"
      ],
      "execution_count": null,
      "outputs": [
        {
          "output_type": "execute_result",
          "data": {
            "text/plain": [
              "['2', '21-', '1-25 월요일']"
            ]
          },
          "metadata": {
            "tags": []
          },
          "execution_count": 27
        }
      ]
    },
    {
      "cell_type": "code",
      "metadata": {
        "colab": {
          "base_uri": "https://localhost:8080/"
        },
        "id": "WLiSb170PR-a",
        "outputId": "2ed0989f-2b7b-4285-e8ad-282ea0dc7b9e"
      },
      "source": [
        "# -을 기준으로 split\n",
        "date.split('-')"
      ],
      "execution_count": null,
      "outputs": [
        {
          "output_type": "execute_result",
          "data": {
            "text/plain": [
              "['2021', '01', '25 월요일']"
            ]
          },
          "metadata": {
            "tags": []
          },
          "execution_count": 28
        }
      ]
    },
    {
      "cell_type": "code",
      "metadata": {
        "colab": {
          "base_uri": "https://localhost:8080/",
          "height": 35
        },
        "id": "ydZcHgZJPSBf",
        "outputId": "9b0a9995-e460-4f95-b384-0c1fbe8b9173"
      },
      "source": [
        "# split의 결과는 리스트이므로 인덱스 사용 가능\n",
        "date.split('-')[0]"
      ],
      "execution_count": null,
      "outputs": [
        {
          "output_type": "execute_result",
          "data": {
            "application/vnd.google.colaboratory.intrinsic+json": {
              "type": "string"
            },
            "text/plain": [
              "'2021'"
            ]
          },
          "metadata": {
            "tags": []
          },
          "execution_count": 29
        }
      ]
    },
    {
      "cell_type": "code",
      "metadata": {
        "colab": {
          "base_uri": "https://localhost:8080/"
        },
        "id": "OsKtLXxXPjbx",
        "outputId": "409428c6-ced4-49bc-b20b-038cf8e65c3b"
      },
      "source": [
        "# split의 결과는 문자이므로 숫자로 변환해야 함\n",
        "int(date.split('-')[0])"
      ],
      "execution_count": null,
      "outputs": [
        {
          "output_type": "execute_result",
          "data": {
            "text/plain": [
              "2021"
            ]
          },
          "metadata": {
            "tags": []
          },
          "execution_count": 30
        }
      ]
    },
    {
      "cell_type": "markdown",
      "metadata": {
        "id": "ci8lL5bpkDqH"
      },
      "source": [
        "\n",
        "실습\n",
        "```\n",
        "date = '2021-01-25'\n",
        "```\n",
        "\n",
        "위 date에서 월(month)만 골라내 숫자형태로 변수 mon에 저장하시오."
      ]
    },
    {
      "cell_type": "code",
      "metadata": {
        "id": "oi4InWd-R5hK",
        "colab": {
          "base_uri": "https://localhost:8080/"
        },
        "outputId": "9b0d6780-0f2a-4001-e333-c30c39fac13e"
      },
      "source": [
        "date = '2021-01-25'\n",
        "\n",
        "# 월만 골라내기\n",
        "mon = int(date.split('-')[1])\n",
        "print(mon)"
      ],
      "execution_count": null,
      "outputs": [
        {
          "output_type": "stream",
          "text": [
            "1\n"
          ],
          "name": "stdout"
        }
      ]
    },
    {
      "cell_type": "markdown",
      "metadata": {
        "id": "1SNURQRPkLjp"
      },
      "source": [
        "위 date에서 일(day)만 숫자 형태로 골라내 변수에 저장하시오."
      ]
    },
    {
      "cell_type": "code",
      "metadata": {
        "id": "EV6_JAjDR5lz",
        "colab": {
          "base_uri": "https://localhost:8080/"
        },
        "outputId": "1b82e514-9970-4066-db00-83f1c4f809b7"
      },
      "source": [
        "# 일만 골라내기\n",
        "day = int(date.split('-')[-1])\n",
        "print(day)"
      ],
      "execution_count": null,
      "outputs": [
        {
          "output_type": "execute_result",
          "data": {
            "text/plain": [
              "25"
            ]
          },
          "metadata": {
            "tags": []
          },
          "execution_count": 33
        }
      ]
    },
    {
      "cell_type": "markdown",
      "metadata": {
        "id": "g9zPvPI_L77Z"
      },
      "source": [
        "# 3. 리스트와 제어구조"
      ]
    },
    {
      "cell_type": "markdown",
      "metadata": {
        "id": "rSZ692PtQhAL"
      },
      "source": [
        "### 1) for a in data 에서 data에 리스트를 넣을 때 "
      ]
    },
    {
      "cell_type": "markdown",
      "metadata": {
        "id": "FAq15VaRk9Ai"
      },
      "source": [
        "다음 spend의 모든 원소를 차례대로 출력하시오 \n",
        "\n",
        "\n",
        "```\n",
        "spend = [43, 12, 65, 67, 23, 12]\n",
        "```\n",
        "\n"
      ]
    },
    {
      "cell_type": "code",
      "metadata": {
        "id": "F2EVpvIMt4_R",
        "colab": {
          "base_uri": "https://localhost:8080/"
        },
        "outputId": "024706ad-1ae4-4d67-9415-25aeb14d563d"
      },
      "source": [
        "spend = [43, 12, 65, 67, 23, 12]\n",
        "\n",
        "for s in spend : \n",
        "    print('지출은', s)"
      ],
      "execution_count": null,
      "outputs": [
        {
          "output_type": "stream",
          "text": [
            "지출은 43\n",
            "지출은 12\n",
            "지출은 65\n",
            "지출은 67\n",
            "지출은 23\n",
            "지출은 12\n"
          ],
          "name": "stdout"
        }
      ]
    },
    {
      "cell_type": "code",
      "metadata": {
        "id": "w8oyLMGlpklS",
        "colab": {
          "base_uri": "https://localhost:8080/"
        },
        "outputId": "88f5887d-2f87-44c6-ee1f-b1c0e07dbf91"
      },
      "source": [
        "# 50이상 쓴 금액을 출력하시오\n",
        "for s in spend : \n",
        "    if s >= 50 : \n",
        "        print(s,'만원')"
      ],
      "execution_count": null,
      "outputs": [
        {
          "output_type": "stream",
          "text": [
            "65 만원 2 월\n",
            "67 만원 3 월\n"
          ],
          "name": "stdout"
        }
      ]
    },
    {
      "cell_type": "markdown",
      "metadata": {
        "id": "qRSeABPrINGK"
      },
      "source": [
        "\r\n",
        "\r\n",
        "### 2) for a in data 에서 data에 range()를 넣을 때\r\n"
      ]
    },
    {
      "cell_type": "code",
      "metadata": {
        "id": "XP9lM2GHt5B0",
        "colab": {
          "base_uri": "https://localhost:8080/"
        },
        "outputId": "1ebb6886-2a64-42b8-e238-c3a716155974"
      },
      "source": [
        "# 인덱스를 활용하고 싶을 때 range()\n",
        "for i in range(0,6) : \n",
        "    print(i,'월 지출은', spend[i])"
      ],
      "execution_count": null,
      "outputs": [
        {
          "output_type": "stream",
          "text": [
            "0 월 지출은 25\n",
            "1 월 지출은 36\n",
            "2 월 지출은 8\n",
            "3 월 지출은 63\n",
            "4 월 지출은 12.0\n",
            "5 월 지출은 56\n"
          ],
          "name": "stdout"
        }
      ]
    },
    {
      "cell_type": "code",
      "metadata": {
        "colab": {
          "base_uri": "https://localhost:8080/"
        },
        "id": "draOPFNGIkAr",
        "outputId": "12517fce-b8ab-4094-9bfa-c6bc72ebd051"
      },
      "source": [
        "# 인덱스는 0부터 시작\r\n",
        "for i in range(0,6) : \r\n",
        "    print(i+1,'월 지출은', spend[i])"
      ],
      "execution_count": null,
      "outputs": [
        {
          "output_type": "stream",
          "text": [
            "1 월 지출은 25\n",
            "2 월 지출은 36\n",
            "3 월 지출은 8\n",
            "4 월 지출은 63\n",
            "5 월 지출은 12.0\n",
            "6 월 지출은 56\n"
          ],
          "name": "stdout"
        }
      ]
    },
    {
      "cell_type": "code",
      "metadata": {
        "id": "dx99LE7Xt5EO",
        "colab": {
          "base_uri": "https://localhost:8080/"
        },
        "outputId": "8dbdc886-767b-41b1-90b4-e27497eac2cb"
      },
      "source": [
        "# len() 활용하기\n",
        "for i in range(0,len(spend)) : \n",
        "    print(i+1,'월 지출은', spend[i])"
      ],
      "execution_count": null,
      "outputs": [
        {
          "output_type": "stream",
          "text": [
            "1 월 지출은 25\n",
            "2 월 지출은 36\n",
            "3 월 지출은 8\n",
            "4 월 지출은 63\n",
            "5 월 지출은 12.0\n",
            "6 월 지출은 56\n"
          ],
          "name": "stdout"
        }
      ]
    },
    {
      "cell_type": "code",
      "metadata": {
        "id": "YBNqt2c-t5Gk",
        "colab": {
          "base_uri": "https://localhost:8080/"
        },
        "outputId": "1ae92609-4e3f-443c-a0c1-13aeb1d0b0aa"
      },
      "source": [
        "# range()가 0부터 시작하면 생략 가능\n",
        "for i in range(len(spend)) : \n",
        "    print(i+1,'월 지출은', spend[i])"
      ],
      "execution_count": null,
      "outputs": [
        {
          "output_type": "stream",
          "text": [
            "1 월 지출은 25\n",
            "2 월 지출은 36\n",
            "3 월 지출은 8\n",
            "4 월 지출은 63\n",
            "5 월 지출은 12.0\n",
            "6 월 지출은 56\n"
          ],
          "name": "stdout"
        }
      ]
    },
    {
      "cell_type": "markdown",
      "metadata": {
        "id": "Mliij-AiZr4_"
      },
      "source": [
        "# 4. 이차원 리스트\n",
        "\n",
        "<img src ='https://github.com/Ahnjihye/allinone_AI/blob/images/14_%EC%9D%B4%EC%B0%A8%EC%9B%90%20%EB%A6%AC%EC%8A%A4%ED%8A%B8.png?raw=true' width = 700>"
      ]
    },
    {
      "cell_type": "code",
      "metadata": {
        "id": "4acOxb9Dul8O",
        "colab": {
          "base_uri": "https://localhost:8080/",
          "height": 36
        },
        "outputId": "0da6153e-f319-4bbb-a6e8-c1af9d991b9b"
      },
      "source": [
        "abc = [[1,2,3], [4,5,6], [7,8,9]]\n",
        "abc"
      ],
      "execution_count": null,
      "outputs": [
        {
          "output_type": "execute_result",
          "data": {
            "text/plain": [
              "[[1, 2, 3], [4, 5, 6], [7, 8, 9]]"
            ]
          },
          "metadata": {
            "tags": []
          },
          "execution_count": 1
        }
      ]
    },
    {
      "cell_type": "code",
      "metadata": {
        "id": "BQ0u3IM-yUd_",
        "colab": {
          "base_uri": "https://localhost:8080/",
          "height": 36
        },
        "outputId": "1041c3f8-dbe3-4e3c-fd91-725a2363224a"
      },
      "source": [
        "abc[0]"
      ],
      "execution_count": null,
      "outputs": [
        {
          "output_type": "execute_result",
          "data": {
            "text/plain": [
              "[1, 2, 3]"
            ]
          },
          "metadata": {
            "tags": []
          },
          "execution_count": 2
        }
      ]
    },
    {
      "cell_type": "code",
      "metadata": {
        "id": "gyt8s3mtpiTF",
        "colab": {
          "base_uri": "https://localhost:8080/",
          "height": 36
        },
        "outputId": "33059a7d-e53a-4a39-e2cd-8d66b698b836"
      },
      "source": [
        "abc[1]"
      ],
      "execution_count": null,
      "outputs": [
        {
          "output_type": "execute_result",
          "data": {
            "text/plain": [
              "[4, 5, 6]"
            ]
          },
          "metadata": {
            "tags": []
          },
          "execution_count": 3
        }
      ]
    },
    {
      "cell_type": "code",
      "metadata": {
        "id": "smaYOq_bpiY8",
        "colab": {
          "base_uri": "https://localhost:8080/",
          "height": 36
        },
        "outputId": "6a222a2c-d996-4d6e-b08a-f4944614df4b"
      },
      "source": [
        "abc[-1]"
      ],
      "execution_count": null,
      "outputs": [
        {
          "output_type": "execute_result",
          "data": {
            "text/plain": [
              "[7, 8, 9]"
            ]
          },
          "metadata": {
            "tags": []
          },
          "execution_count": 4
        }
      ]
    },
    {
      "cell_type": "markdown",
      "metadata": {
        "id": "IROs-Ha0yUj2"
      },
      "source": [
        "## 이차원 리스트의 인덱스\n",
        "\n",
        "<img src = 'https://github.com/Ahnjihye/allinone_AI/blob/images/15_%EC%9D%B4%EC%B0%A8%EC%9B%90%20%EB%A6%AC%EC%8A%A4%ED%8A%B8%20%EC%9D%B8%EB%8D%B1%EC%8A%A4.png?raw=true' width = 700>"
      ]
    },
    {
      "cell_type": "code",
      "metadata": {
        "id": "1U_e8JPXul-I",
        "colab": {
          "base_uri": "https://localhost:8080/",
          "height": 36
        },
        "outputId": "3d5062e3-03c0-4ea8-936e-cb7e026df9ad"
      },
      "source": [
        "# 1 출력하기\n",
        "abc[0][0]"
      ],
      "execution_count": null,
      "outputs": [
        {
          "output_type": "execute_result",
          "data": {
            "text/plain": [
              "1"
            ]
          },
          "metadata": {
            "tags": []
          },
          "execution_count": 5
        }
      ]
    },
    {
      "cell_type": "markdown",
      "metadata": {
        "id": "-bcfTuieldf0"
      },
      "source": [
        "이차원 리스트 abc에서 인덱스를 활용해 다음 숫자를 출력하시오"
      ]
    },
    {
      "cell_type": "code",
      "metadata": {
        "id": "lhEJ64vTumAI",
        "colab": {
          "base_uri": "https://localhost:8080/",
          "height": 36
        },
        "outputId": "999afc4b-7464-4698-a6a8-fd8ebb6b44e7"
      },
      "source": [
        "# 6 출력하기\n",
        "abc[1][2]"
      ],
      "execution_count": null,
      "outputs": [
        {
          "output_type": "execute_result",
          "data": {
            "text/plain": [
              "6"
            ]
          },
          "metadata": {
            "tags": []
          },
          "execution_count": 6
        }
      ]
    },
    {
      "cell_type": "code",
      "metadata": {
        "id": "8dolImUrumCS",
        "colab": {
          "base_uri": "https://localhost:8080/",
          "height": 36
        },
        "outputId": "53b3e1ad-e8e6-4e44-abb0-40f3901716c5"
      },
      "source": [
        "# 8 출력하기\n",
        "abc[2][1]"
      ],
      "execution_count": null,
      "outputs": [
        {
          "output_type": "execute_result",
          "data": {
            "text/plain": [
              "8"
            ]
          },
          "metadata": {
            "tags": []
          },
          "execution_count": 7
        }
      ]
    },
    {
      "cell_type": "markdown",
      "metadata": {
        "id": "2YUUytTsftU5"
      },
      "source": [
        "## 반복문과 이차원 리스트"
      ]
    },
    {
      "cell_type": "code",
      "metadata": {
        "id": "vIwkSkIuyYwV",
        "colab": {
          "base_uri": "https://localhost:8080/",
          "height": 73
        },
        "outputId": "a8696087-3f30-4a86-8db3-1ebdfa5661de"
      },
      "source": [
        "for row in abc : \n",
        "    print(row)"
      ],
      "execution_count": null,
      "outputs": [
        {
          "output_type": "stream",
          "text": [
            "[1, 2, 3]\n",
            "[4, 5, 6]\n",
            "[7, 8, 9]\n"
          ],
          "name": "stdout"
        }
      ]
    },
    {
      "cell_type": "markdown",
      "metadata": {
        "id": "-bbMjsKVyY4B"
      },
      "source": [
        "> 이차원리스트 반복 원리\n",
        "\n",
        "<img src = 'https://github.com/Ahnjihye/allinone_AI/blob/images/16_%EC%9D%B4%EC%B0%A8%EC%9B%90%20%EB%A6%AC%EC%8A%A4%ED%8A%B8%20%EB%B0%98%EB%B3%B5%EA%B5%AC%EC%A1%B0.png?raw=true' width=800>"
      ]
    },
    {
      "cell_type": "code",
      "metadata": {
        "id": "t4LqJgCdyh03",
        "colab": {
          "base_uri": "https://localhost:8080/",
          "height": 73
        },
        "outputId": "17ea743c-c13d-4ff6-a887-591f192c9ac5"
      },
      "source": [
        "# 모든 줄의 첫번째 데이터만 출력\n",
        "for row in abc : \n",
        "    print(row[0])"
      ],
      "execution_count": null,
      "outputs": [
        {
          "output_type": "stream",
          "text": [
            "1\n",
            "4\n",
            "7\n"
          ],
          "name": "stdout"
        }
      ]
    },
    {
      "cell_type": "code",
      "metadata": {
        "id": "N3J7nAOrrTWs",
        "colab": {
          "base_uri": "https://localhost:8080/",
          "height": 73
        },
        "outputId": "461b8b6a-bdac-4385-847c-2e82003a767e"
      },
      "source": [
        "# 모든 줄의 마지막 데이터(세번째 열)만 출력\n",
        "for row in abc : \n",
        "    print(row[-1])"
      ],
      "execution_count": null,
      "outputs": [
        {
          "output_type": "stream",
          "text": [
            "3\n",
            "6\n",
            "9\n"
          ],
          "name": "stdout"
        }
      ]
    },
    {
      "cell_type": "markdown",
      "metadata": {
        "id": "gKl6ITBVf4dN"
      },
      "source": [
        "# 5. 올림픽 데이터 "
      ]
    },
    {
      "cell_type": "markdown",
      "metadata": {
        "id": "bIBp6iFLMfqY"
      },
      "source": [
        "<img src= 'https://github.com/Ahnjihye/allinone_AI/blob/images/17_%EC%98%AC%EB%A6%BC%ED%94%BD.png?raw=true' width=500>"
      ]
    },
    {
      "cell_type": "markdown",
      "metadata": {
        "id": "XEF7EOlBLJUl"
      },
      "source": [
        "\r\n",
        "\r\n",
        "```\r\n",
        "data =[\r\n",
        "       [1,'미국',46,37,38,121],\r\n",
        "       [2,'영국',27,23,17,67],\r\n",
        "       [3,'중국',26,18,26,70],\r\n",
        "       [4,'러시아',19,18,19,56],\r\n",
        "       [5,'독일',17,10,15,42],\r\n",
        "       [6,'일본',12,8,21,41],\r\n",
        "       [7,'프랑스',10,18,14,42],\r\n",
        "       [8,'대한민국',9,3,9,21] \r\n",
        "       ]\r\n",
        "```\r\n",
        "\r\n"
      ]
    },
    {
      "cell_type": "code",
      "metadata": {
        "id": "0VrPyd2vMfqZ"
      },
      "source": [
        "data =[\n",
        "       [1,'미국',46,37,38,121],\n",
        "       [2,'영국',27,23,17,67],\n",
        "       [3,'중국',26,18,26,70],\n",
        "       [4,'러시아',19,18,19,56],\n",
        "       [5,'독일',17,10,15,42],\n",
        "       [6,'일본',12,8,21,41],\n",
        "       [7,'프랑스',10,18,14,42],\n",
        "       [8,'대한민국',9,3,9,21] \n",
        "       ]"
      ],
      "execution_count": null,
      "outputs": []
    },
    {
      "cell_type": "code",
      "metadata": {
        "colab": {
          "base_uri": "https://localhost:8080/"
        },
        "id": "G7IrajJ1Mfqa",
        "outputId": "3a369ef6-12df-4a91-e8e9-c8f0ac68aaa0"
      },
      "source": [
        "# 순위권에 든 모든 국가를 출력하시오\n",
        "for row in data :\n",
        "    print(row[1])"
      ],
      "execution_count": null,
      "outputs": [
        {
          "output_type": "stream",
          "text": [
            "미국\n",
            "영국\n",
            "중국\n",
            "러시아\n",
            "독일\n",
            "일본\n",
            "프랑스\n",
            "대한민국\n"
          ],
          "name": "stdout"
        }
      ]
    },
    {
      "cell_type": "code",
      "metadata": {
        "colab": {
          "base_uri": "https://localhost:8080/"
        },
        "id": "Eu7RUnssMfqb",
        "outputId": "5b0826d1-6bf5-4963-b400-5e07a4e01f2d"
      },
      "source": [
        "# 금메달보다 은메달 개수가 많은 나라를 출력하시오\n",
        "for row in data : \n",
        "    if row[2] < row[3] : \n",
        "        print(row[1])"
      ],
      "execution_count": null,
      "outputs": [
        {
          "output_type": "stream",
          "text": [
            "프랑스\n"
          ],
          "name": "stdout"
        }
      ]
    },
    {
      "cell_type": "code",
      "metadata": {
        "colab": {
          "base_uri": "https://localhost:8080/"
        },
        "id": "1EbMZLoZMfqc",
        "outputId": "46a83ef1-4a03-4e28-9866-64d23c91b0b2"
      },
      "source": [
        "# 금메달보다 동메달 개수가 많은 나라를 출력하시오\n",
        "for row in data : \n",
        "    if row[2] < row[4] : \n",
        "        print(row[1])"
      ],
      "execution_count": null,
      "outputs": [
        {
          "output_type": "stream",
          "text": [
            "일본\n",
            "프랑스\n"
          ],
          "name": "stdout"
        }
      ]
    },
    {
      "cell_type": "code",
      "metadata": {
        "id": "LtY4aNsQMfqd"
      },
      "source": [
        "# 모든 나라의 금메달 합을 구하시오\n",
        "gold = 0\n",
        "\n",
        "for row in data : \n",
        "    gold += row[2]"
      ],
      "execution_count": null,
      "outputs": []
    },
    {
      "cell_type": "code",
      "metadata": {
        "colab": {
          "base_uri": "https://localhost:8080/"
        },
        "id": "S07712BhMfqd",
        "outputId": "43d48212-2561-430a-aa9c-22d79aef2994"
      },
      "source": [
        "gold"
      ],
      "execution_count": null,
      "outputs": [
        {
          "output_type": "execute_result",
          "data": {
            "text/plain": [
              "166"
            ]
          },
          "metadata": {
            "tags": []
          },
          "execution_count": 6
        }
      ]
    }
  ]
}